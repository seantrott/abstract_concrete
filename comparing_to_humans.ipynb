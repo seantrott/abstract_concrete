{
 "cells": [
  {
   "cell_type": "markdown",
   "metadata": {},
   "source": [
    "# Redoing Bedny (2019) analysis, comparing to word embeddings"
   ]
  },
  {
   "cell_type": "markdown",
   "metadata": {},
   "source": [
    "## Load ppt data"
   ]
  },
  {
   "cell_type": "code",
   "execution_count": 1,
   "metadata": {},
   "outputs": [],
   "source": [
    "import pandas as pd\n",
    "import seaborn as sns\n",
    "import matplotlib.pyplot as plt\n",
    "import ast"
   ]
  },
  {
   "cell_type": "code",
   "execution_count": 69,
   "metadata": {},
   "outputs": [],
   "source": [
    "%matplotlib inline\n",
    "%config InlineBackend.figure_format = 'retina'  # makes figs nicer!"
   ]
  },
  {
   "cell_type": "code",
   "execution_count": 3,
   "metadata": {},
   "outputs": [],
   "source": [
    "df_participant_judgments = pd.read_csv(\"data/datalong_CBSAMT.csv\")"
   ]
  },
  {
   "cell_type": "code",
   "execution_count": 4,
   "metadata": {},
   "outputs": [
    {
     "data": {
      "text/html": [
       "<div>\n",
       "<style scoped>\n",
       "    .dataframe tbody tr th:only-of-type {\n",
       "        vertical-align: middle;\n",
       "    }\n",
       "\n",
       "    .dataframe tbody tr th {\n",
       "        vertical-align: top;\n",
       "    }\n",
       "\n",
       "    .dataframe thead th {\n",
       "        text-align: right;\n",
       "    }\n",
       "</style>\n",
       "<table border=\"1\" class=\"dataframe\">\n",
       "  <thead>\n",
       "    <tr style=\"text-align: right;\">\n",
       "      <th></th>\n",
       "      <th>C1</th>\n",
       "      <th>C2</th>\n",
       "      <th>S1</th>\n",
       "      <th>S2</th>\n",
       "      <th>Category</th>\n",
       "      <th>V1</th>\n",
       "      <th>V2</th>\n",
       "      <th>S_01</th>\n",
       "      <th>S_02</th>\n",
       "      <th>S_03</th>\n",
       "      <th>...</th>\n",
       "      <th>CB_31</th>\n",
       "      <th>CB_32</th>\n",
       "      <th>CB_33</th>\n",
       "      <th>CB_34</th>\n",
       "      <th>CB_35</th>\n",
       "      <th>CB_37</th>\n",
       "      <th>CB_38</th>\n",
       "      <th>CB_40</th>\n",
       "      <th>CB_41</th>\n",
       "      <th>AMT_av</th>\n",
       "    </tr>\n",
       "  </thead>\n",
       "  <tbody>\n",
       "    <tr>\n",
       "      <th>0</th>\n",
       "      <td>Sound</td>\n",
       "      <td>Sound</td>\n",
       "      <td>Sanim</td>\n",
       "      <td>Sinanim</td>\n",
       "      <td>Emission</td>\n",
       "      <td>bark</td>\n",
       "      <td>beep</td>\n",
       "      <td>1</td>\n",
       "      <td>3</td>\n",
       "      <td>4</td>\n",
       "      <td>...</td>\n",
       "      <td>1</td>\n",
       "      <td>1.0</td>\n",
       "      <td>1.0</td>\n",
       "      <td>1.0</td>\n",
       "      <td>2.0</td>\n",
       "      <td>1.0</td>\n",
       "      <td>2</td>\n",
       "      <td>1.0</td>\n",
       "      <td>2.0</td>\n",
       "      <td>2.351351</td>\n",
       "    </tr>\n",
       "    <tr>\n",
       "      <th>1</th>\n",
       "      <td>Sound</td>\n",
       "      <td>Sound</td>\n",
       "      <td>Sanim</td>\n",
       "      <td>Sanim</td>\n",
       "      <td>Emission</td>\n",
       "      <td>bark</td>\n",
       "      <td>bellow</td>\n",
       "      <td>1</td>\n",
       "      <td>5</td>\n",
       "      <td>5</td>\n",
       "      <td>...</td>\n",
       "      <td>1</td>\n",
       "      <td>4.0</td>\n",
       "      <td>4.0</td>\n",
       "      <td>7.0</td>\n",
       "      <td>4.0</td>\n",
       "      <td>4.0</td>\n",
       "      <td>3</td>\n",
       "      <td>1.0</td>\n",
       "      <td>5.0</td>\n",
       "      <td>4.705882</td>\n",
       "    </tr>\n",
       "    <tr>\n",
       "      <th>2</th>\n",
       "      <td>Sound</td>\n",
       "      <td>Light</td>\n",
       "      <td>Sanim</td>\n",
       "      <td>Light</td>\n",
       "      <td>Emission</td>\n",
       "      <td>bark</td>\n",
       "      <td>blaze</td>\n",
       "      <td>1</td>\n",
       "      <td>1</td>\n",
       "      <td>1</td>\n",
       "      <td>...</td>\n",
       "      <td>1</td>\n",
       "      <td>1.0</td>\n",
       "      <td>1.0</td>\n",
       "      <td>6.0</td>\n",
       "      <td>1.0</td>\n",
       "      <td>1.0</td>\n",
       "      <td>1</td>\n",
       "      <td>1.0</td>\n",
       "      <td>5.0</td>\n",
       "      <td>2.184211</td>\n",
       "    </tr>\n",
       "    <tr>\n",
       "      <th>3</th>\n",
       "      <td>Sound</td>\n",
       "      <td>Light</td>\n",
       "      <td>Sanim</td>\n",
       "      <td>Light</td>\n",
       "      <td>Emission</td>\n",
       "      <td>bark</td>\n",
       "      <td>blink</td>\n",
       "      <td>1</td>\n",
       "      <td>1</td>\n",
       "      <td>4</td>\n",
       "      <td>...</td>\n",
       "      <td>1</td>\n",
       "      <td>1.0</td>\n",
       "      <td>1.0</td>\n",
       "      <td>7.0</td>\n",
       "      <td>1.0</td>\n",
       "      <td>1.0</td>\n",
       "      <td>1</td>\n",
       "      <td>1.0</td>\n",
       "      <td>2.0</td>\n",
       "      <td>1.657895</td>\n",
       "    </tr>\n",
       "    <tr>\n",
       "      <th>4</th>\n",
       "      <td>Sound</td>\n",
       "      <td>Sound</td>\n",
       "      <td>Sanim</td>\n",
       "      <td>Sinanim</td>\n",
       "      <td>Emission</td>\n",
       "      <td>bark</td>\n",
       "      <td>boom</td>\n",
       "      <td>2</td>\n",
       "      <td>3</td>\n",
       "      <td>4</td>\n",
       "      <td>...</td>\n",
       "      <td>1</td>\n",
       "      <td>1.0</td>\n",
       "      <td>1.0</td>\n",
       "      <td>6.0</td>\n",
       "      <td>1.0</td>\n",
       "      <td>4.0</td>\n",
       "      <td>3</td>\n",
       "      <td>1.0</td>\n",
       "      <td>5.0</td>\n",
       "      <td>4.228571</td>\n",
       "    </tr>\n",
       "  </tbody>\n",
       "</table>\n",
       "<p>5 rows × 55 columns</p>\n",
       "</div>"
      ],
      "text/plain": [
       "      C1     C2     S1       S2  Category    V1      V2  S_01  S_02  S_03  \\\n",
       "0  Sound  Sound  Sanim  Sinanim  Emission  bark    beep     1     3     4   \n",
       "1  Sound  Sound  Sanim    Sanim  Emission  bark  bellow     1     5     5   \n",
       "2  Sound  Light  Sanim    Light  Emission  bark   blaze     1     1     1   \n",
       "3  Sound  Light  Sanim    Light  Emission  bark   blink     1     1     4   \n",
       "4  Sound  Sound  Sanim  Sinanim  Emission  bark    boom     2     3     4   \n",
       "\n",
       "     ...     CB_31  CB_32  CB_33  CB_34  CB_35  CB_37  CB_38  CB_40  CB_41  \\\n",
       "0    ...         1    1.0    1.0    1.0    2.0    1.0      2    1.0    2.0   \n",
       "1    ...         1    4.0    4.0    7.0    4.0    4.0      3    1.0    5.0   \n",
       "2    ...         1    1.0    1.0    6.0    1.0    1.0      1    1.0    5.0   \n",
       "3    ...         1    1.0    1.0    7.0    1.0    1.0      1    1.0    2.0   \n",
       "4    ...         1    1.0    1.0    6.0    1.0    4.0      3    1.0    5.0   \n",
       "\n",
       "     AMT_av  \n",
       "0  2.351351  \n",
       "1  4.705882  \n",
       "2  2.184211  \n",
       "3  1.657895  \n",
       "4  4.228571  \n",
       "\n",
       "[5 rows x 55 columns]"
      ]
     },
     "execution_count": 4,
     "metadata": {},
     "output_type": "execute_result"
    }
   ],
   "source": [
    "df_participant_judgments.head(5)"
   ]
  },
  {
   "cell_type": "code",
   "execution_count": 5,
   "metadata": {},
   "outputs": [
    {
     "data": {
      "text/plain": [
       "2806"
      ]
     },
     "execution_count": 5,
     "metadata": {},
     "output_type": "execute_result"
    }
   ],
   "source": [
    "len(df_participant_judgments)"
   ]
  },
  {
   "cell_type": "markdown",
   "metadata": {},
   "source": [
    "### Merge with cosine distances for each wordpair"
   ]
  },
  {
   "cell_type": "code",
   "execution_count": 6,
   "metadata": {},
   "outputs": [
    {
     "data": {
      "text/html": [
       "<div>\n",
       "<style scoped>\n",
       "    .dataframe tbody tr th:only-of-type {\n",
       "        vertical-align: middle;\n",
       "    }\n",
       "\n",
       "    .dataframe tbody tr th {\n",
       "        vertical-align: top;\n",
       "    }\n",
       "\n",
       "    .dataframe thead th {\n",
       "        text-align: right;\n",
       "    }\n",
       "</style>\n",
       "<table border=\"1\" class=\"dataframe\">\n",
       "  <thead>\n",
       "    <tr style=\"text-align: right;\">\n",
       "      <th></th>\n",
       "      <th>Unnamed: 0</th>\n",
       "      <th>cosine_distance</th>\n",
       "      <th>w1</th>\n",
       "      <th>w2</th>\n",
       "    </tr>\n",
       "  </thead>\n",
       "  <tbody>\n",
       "    <tr>\n",
       "      <th>0</th>\n",
       "      <td>0</td>\n",
       "      <td>0.900461</td>\n",
       "      <td>blaze</td>\n",
       "      <td>blink</td>\n",
       "    </tr>\n",
       "    <tr>\n",
       "      <th>1</th>\n",
       "      <td>1</td>\n",
       "      <td>0.780368</td>\n",
       "      <td>blaze</td>\n",
       "      <td>flare</td>\n",
       "    </tr>\n",
       "    <tr>\n",
       "      <th>2</th>\n",
       "      <td>2</td>\n",
       "      <td>0.929387</td>\n",
       "      <td>blaze</td>\n",
       "      <td>flash</td>\n",
       "    </tr>\n",
       "    <tr>\n",
       "      <th>3</th>\n",
       "      <td>3</td>\n",
       "      <td>0.865661</td>\n",
       "      <td>blaze</td>\n",
       "      <td>flicker</td>\n",
       "    </tr>\n",
       "    <tr>\n",
       "      <th>4</th>\n",
       "      <td>4</td>\n",
       "      <td>0.856313</td>\n",
       "      <td>blaze</td>\n",
       "      <td>gleam</td>\n",
       "    </tr>\n",
       "  </tbody>\n",
       "</table>\n",
       "</div>"
      ],
      "text/plain": [
       "   Unnamed: 0  cosine_distance     w1       w2\n",
       "0           0         0.900461  blaze    blink\n",
       "1           1         0.780368  blaze    flare\n",
       "2           2         0.929387  blaze    flash\n",
       "3           3         0.865661  blaze  flicker\n",
       "4           4         0.856313  blaze    gleam"
      ]
     },
     "execution_count": 6,
     "metadata": {},
     "output_type": "execute_result"
    }
   ],
   "source": [
    "df_analysis = pd.read_csv(\"data/processed/verb_embedding_distances.csv\")\n",
    "df_analysis.head(5)"
   ]
  },
  {
   "cell_type": "code",
   "execution_count": 7,
   "metadata": {},
   "outputs": [],
   "source": [
    "def combine_words(row, word1='w1', word2='w2'):\n",
    "    w1, w2 = row[word1], row[word2]\n",
    "    return '_'.join(sorted([w1, w2]))"
   ]
  },
  {
   "cell_type": "code",
   "execution_count": 8,
   "metadata": {},
   "outputs": [],
   "source": [
    "df_participant_judgments['combined_words'] = df_participant_judgments.apply(\n",
    "    lambda row: combine_words(row, word1='V1', word2='V2'), axis=1)"
   ]
  },
  {
   "cell_type": "code",
   "execution_count": 9,
   "metadata": {},
   "outputs": [],
   "source": [
    "df_analysis['combined_words'] = df_analysis.apply(lambda row: combine_words(row), axis=1)"
   ]
  },
  {
   "cell_type": "code",
   "execution_count": 10,
   "metadata": {},
   "outputs": [],
   "source": [
    "df_analysis_subset = df_analysis[df_analysis['combined_words'].isin(list(df_participant_judgments['combined_words']))]"
   ]
  },
  {
   "cell_type": "code",
   "execution_count": 11,
   "metadata": {},
   "outputs": [],
   "source": [
    "df_merged = pd.merge(df_analysis, df_participant_judgments)\n",
    "df_merged['same_modality'] = df_merged['C1'] == df_merged['C2']"
   ]
  },
  {
   "cell_type": "code",
   "execution_count": 12,
   "metadata": {},
   "outputs": [
    {
     "data": {
      "text/html": [
       "<div>\n",
       "<style scoped>\n",
       "    .dataframe tbody tr th:only-of-type {\n",
       "        vertical-align: middle;\n",
       "    }\n",
       "\n",
       "    .dataframe tbody tr th {\n",
       "        vertical-align: top;\n",
       "    }\n",
       "\n",
       "    .dataframe thead th {\n",
       "        text-align: right;\n",
       "    }\n",
       "</style>\n",
       "<table border=\"1\" class=\"dataframe\">\n",
       "  <thead>\n",
       "    <tr style=\"text-align: right;\">\n",
       "      <th></th>\n",
       "      <th>Unnamed: 0</th>\n",
       "      <th>cosine_distance</th>\n",
       "      <th>w1</th>\n",
       "      <th>w2</th>\n",
       "      <th>combined_words</th>\n",
       "      <th>C1</th>\n",
       "      <th>C2</th>\n",
       "      <th>S1</th>\n",
       "      <th>S2</th>\n",
       "      <th>Category</th>\n",
       "      <th>...</th>\n",
       "      <th>CB_32</th>\n",
       "      <th>CB_33</th>\n",
       "      <th>CB_34</th>\n",
       "      <th>CB_35</th>\n",
       "      <th>CB_37</th>\n",
       "      <th>CB_38</th>\n",
       "      <th>CB_40</th>\n",
       "      <th>CB_41</th>\n",
       "      <th>AMT_av</th>\n",
       "      <th>same_modality</th>\n",
       "    </tr>\n",
       "  </thead>\n",
       "  <tbody>\n",
       "    <tr>\n",
       "      <th>0</th>\n",
       "      <td>0</td>\n",
       "      <td>0.900461</td>\n",
       "      <td>blaze</td>\n",
       "      <td>blink</td>\n",
       "      <td>blaze_blink</td>\n",
       "      <td>Light</td>\n",
       "      <td>Light</td>\n",
       "      <td>Light</td>\n",
       "      <td>Light</td>\n",
       "      <td>Emission</td>\n",
       "      <td>...</td>\n",
       "      <td>1.0</td>\n",
       "      <td>3.0</td>\n",
       "      <td>1.0</td>\n",
       "      <td>1.0</td>\n",
       "      <td>1.0</td>\n",
       "      <td>3</td>\n",
       "      <td>1.0</td>\n",
       "      <td>2.0</td>\n",
       "      <td>2.000</td>\n",
       "      <td>True</td>\n",
       "    </tr>\n",
       "    <tr>\n",
       "      <th>1</th>\n",
       "      <td>1</td>\n",
       "      <td>0.780368</td>\n",
       "      <td>blaze</td>\n",
       "      <td>flare</td>\n",
       "      <td>blaze_flare</td>\n",
       "      <td>Light</td>\n",
       "      <td>Light</td>\n",
       "      <td>Light</td>\n",
       "      <td>Light</td>\n",
       "      <td>Emission</td>\n",
       "      <td>...</td>\n",
       "      <td>4.0</td>\n",
       "      <td>4.0</td>\n",
       "      <td>7.0</td>\n",
       "      <td>4.0</td>\n",
       "      <td>7.0</td>\n",
       "      <td>5</td>\n",
       "      <td>7.0</td>\n",
       "      <td>6.0</td>\n",
       "      <td>4.725</td>\n",
       "      <td>True</td>\n",
       "    </tr>\n",
       "    <tr>\n",
       "      <th>2</th>\n",
       "      <td>2</td>\n",
       "      <td>0.929387</td>\n",
       "      <td>blaze</td>\n",
       "      <td>flash</td>\n",
       "      <td>blaze_flash</td>\n",
       "      <td>Light</td>\n",
       "      <td>Light</td>\n",
       "      <td>Light</td>\n",
       "      <td>Light</td>\n",
       "      <td>Emission</td>\n",
       "      <td>...</td>\n",
       "      <td>5.0</td>\n",
       "      <td>4.0</td>\n",
       "      <td>7.0</td>\n",
       "      <td>3.0</td>\n",
       "      <td>7.0</td>\n",
       "      <td>4</td>\n",
       "      <td>4.0</td>\n",
       "      <td>6.0</td>\n",
       "      <td>4.025</td>\n",
       "      <td>True</td>\n",
       "    </tr>\n",
       "    <tr>\n",
       "      <th>3</th>\n",
       "      <td>3</td>\n",
       "      <td>0.865661</td>\n",
       "      <td>blaze</td>\n",
       "      <td>flicker</td>\n",
       "      <td>blaze_flicker</td>\n",
       "      <td>Light</td>\n",
       "      <td>Light</td>\n",
       "      <td>Light</td>\n",
       "      <td>Light</td>\n",
       "      <td>Emission</td>\n",
       "      <td>...</td>\n",
       "      <td>2.0</td>\n",
       "      <td>3.0</td>\n",
       "      <td>1.0</td>\n",
       "      <td>1.0</td>\n",
       "      <td>7.0</td>\n",
       "      <td>3</td>\n",
       "      <td>3.0</td>\n",
       "      <td>3.0</td>\n",
       "      <td>3.750</td>\n",
       "      <td>True</td>\n",
       "    </tr>\n",
       "    <tr>\n",
       "      <th>4</th>\n",
       "      <td>4</td>\n",
       "      <td>0.856313</td>\n",
       "      <td>blaze</td>\n",
       "      <td>gleam</td>\n",
       "      <td>blaze_gleam</td>\n",
       "      <td>Light</td>\n",
       "      <td>Light</td>\n",
       "      <td>Light</td>\n",
       "      <td>Light</td>\n",
       "      <td>Emission</td>\n",
       "      <td>...</td>\n",
       "      <td>2.0</td>\n",
       "      <td>3.0</td>\n",
       "      <td>4.0</td>\n",
       "      <td>1.0</td>\n",
       "      <td>7.0</td>\n",
       "      <td>5</td>\n",
       "      <td>5.0</td>\n",
       "      <td>4.0</td>\n",
       "      <td>3.225</td>\n",
       "      <td>True</td>\n",
       "    </tr>\n",
       "  </tbody>\n",
       "</table>\n",
       "<p>5 rows × 61 columns</p>\n",
       "</div>"
      ],
      "text/plain": [
       "   Unnamed: 0  cosine_distance     w1       w2 combined_words     C1     C2  \\\n",
       "0           0         0.900461  blaze    blink    blaze_blink  Light  Light   \n",
       "1           1         0.780368  blaze    flare    blaze_flare  Light  Light   \n",
       "2           2         0.929387  blaze    flash    blaze_flash  Light  Light   \n",
       "3           3         0.865661  blaze  flicker  blaze_flicker  Light  Light   \n",
       "4           4         0.856313  blaze    gleam    blaze_gleam  Light  Light   \n",
       "\n",
       "      S1     S2  Category      ...       CB_32 CB_33  CB_34  CB_35  CB_37  \\\n",
       "0  Light  Light  Emission      ...         1.0   3.0    1.0    1.0    1.0   \n",
       "1  Light  Light  Emission      ...         4.0   4.0    7.0    4.0    7.0   \n",
       "2  Light  Light  Emission      ...         5.0   4.0    7.0    3.0    7.0   \n",
       "3  Light  Light  Emission      ...         2.0   3.0    1.0    1.0    7.0   \n",
       "4  Light  Light  Emission      ...         2.0   3.0    4.0    1.0    7.0   \n",
       "\n",
       "   CB_38  CB_40  CB_41  AMT_av  same_modality  \n",
       "0      3    1.0    2.0   2.000           True  \n",
       "1      5    7.0    6.0   4.725           True  \n",
       "2      4    4.0    6.0   4.025           True  \n",
       "3      3    3.0    3.0   3.750           True  \n",
       "4      5    5.0    4.0   3.225           True  \n",
       "\n",
       "[5 rows x 61 columns]"
      ]
     },
     "execution_count": 12,
     "metadata": {},
     "output_type": "execute_result"
    }
   ],
   "source": [
    "df_merged.head(5)"
   ]
  },
  {
   "cell_type": "code",
   "execution_count": 13,
   "metadata": {},
   "outputs": [],
   "source": [
    "df_merged.to_csv(\"data/processed/judgments_with_embeddings.csv\")"
   ]
  },
  {
   "cell_type": "markdown",
   "metadata": {},
   "source": [
    "## Do cosine distances predict average similarity judgments?"
   ]
  },
  {
   "cell_type": "code",
   "execution_count": 14,
   "metadata": {},
   "outputs": [],
   "source": [
    "import statsmodels.formula.api as sm"
   ]
  },
  {
   "cell_type": "markdown",
   "metadata": {},
   "source": [
    "### Get data into shape"
   ]
  },
  {
   "cell_type": "code",
   "execution_count": 33,
   "metadata": {},
   "outputs": [],
   "source": [
    "df_merged = pd.read_csv(\"data/processed/judgments_with_embeddings.csv\")"
   ]
  },
  {
   "cell_type": "code",
   "execution_count": 34,
   "metadata": {},
   "outputs": [],
   "source": [
    "sighted_columns = ['S_01', 'S_02', 'S_03', 'S_04', 'S_05', 'S_07',\n",
    "       'S_08', 'S_09', 'S_10', 'S_11', 'S_12', 'S_13', 'S_14', 'S_16', 'S_17',\n",
    "       'S_18', 'S_19', 'S_20', 'S_21', 'S_22', 'S_23', 'S_24']\n",
    "blind_columns = ['CB_06',\n",
    "       'CB_08', 'CB_09', 'CB_14', 'CB_15', 'CB_18', 'CB_19', 'CB_22', 'CB_23',\n",
    "       'CB_24', 'CB_25', 'CB_26', 'CB_27', 'CB_28', 'CB_29', 'CB_30', 'CB_31',\n",
    "       'CB_32', 'CB_33', 'CB_34', 'CB_35', 'CB_37', 'CB_38', 'CB_40', 'CB_41']"
   ]
  },
  {
   "cell_type": "code",
   "execution_count": 35,
   "metadata": {},
   "outputs": [],
   "source": [
    "def get_group_average(row, columns):\n",
    "    row = row.fillna(0)\n",
    "    row_col = row[columns].values\n",
    "    # row_col = [i for i in row_col if i >0 ]\n",
    "    return row_col.mean()"
   ]
  },
  {
   "cell_type": "code",
   "execution_count": 36,
   "metadata": {},
   "outputs": [],
   "source": [
    "df_merged['blind_avg'] = df_merged.apply(lambda x: get_group_average(x, columns=blind_columns), \n",
    "                                         axis=1)"
   ]
  },
  {
   "cell_type": "code",
   "execution_count": 37,
   "metadata": {},
   "outputs": [],
   "source": [
    "df_merged['sighted_avg'] = df_merged.apply(lambda x: get_group_average(x, columns=sighted_columns), \n",
    "                                         axis=1)"
   ]
  },
  {
   "cell_type": "code",
   "execution_count": 38,
   "metadata": {},
   "outputs": [],
   "source": [
    "modalities = {'Light': 'Vision',\n",
    "             'Sound': 'Sound',\n",
    "             'Touch': 'Touch',\n",
    "             'Amodal': 'Amodal',\n",
    "              'Motion': 'Motion',\n",
    "              'Sight': 'Vision'}\n",
    "\n",
    "df_merged['Cat1'] = df_merged['C1'].apply(lambda x: modalities[x])\n",
    "df_merged['Cat2'] = df_merged['C2'].apply(lambda x: modalities[x])"
   ]
  },
  {
   "cell_type": "markdown",
   "metadata": {},
   "source": [
    "### Get overall R^2 for each group, and also for each subcategory of modality"
   ]
  },
  {
   "cell_type": "code",
   "execution_count": 39,
   "metadata": {},
   "outputs": [],
   "source": [
    "df_same = df_merged[df_merged['same_modality']==True]"
   ]
  },
  {
   "cell_type": "code",
   "execution_count": 66,
   "metadata": {},
   "outputs": [],
   "source": [
    "modality_to_r2 = []\n",
    "\n",
    "for modality in list(modalities.values()):\n",
    "    df_reduced = df_same[df_same['Cat1']==modality]\n",
    "    \n",
    "    result_mturk = sm.ols(formula=\"AMT_av ~ cosine_distance\", data=df_reduced).fit()\n",
    "    result_blind = sm.ols(formula=\"blind_avg ~ cosine_distance\", data=df_reduced).fit()\n",
    "    result_sighted = sm.ols(formula=\"sighted_avg ~ cosine_distance\", data=df_reduced).fit()\n",
    "    \n",
    "    modality_to_r2.append({\n",
    "        'r2': result_mturk.rsquared_adj,\n",
    "        'ppt': 'mturk',\n",
    "        'modality': modality\n",
    "    })\n",
    "    modality_to_r2.append({\n",
    "        'r2': result_blind.rsquared_adj,\n",
    "        'ppt': 'blind',\n",
    "        'modality': modality\n",
    "    })\n",
    "    modality_to_r2.append({\n",
    "        'r2': result_sighted.rsquared_adj,\n",
    "        'ppt': 'sighted',\n",
    "        'modality': modality\n",
    "    })"
   ]
  },
  {
   "cell_type": "code",
   "execution_count": 67,
   "metadata": {},
   "outputs": [],
   "source": [
    "df_modality_r2 = pd.DataFrame(modality_to_r2)"
   ]
  },
  {
   "cell_type": "code",
   "execution_count": 72,
   "metadata": {},
   "outputs": [
    {
     "data": {
      "text/plain": [
       "<matplotlib.axes._subplots.AxesSubplot at 0x1a18183d68>"
      ]
     },
     "execution_count": 72,
     "metadata": {},
     "output_type": "execute_result"
    },
    {
     "data": {
      "image/png": "[encoded data removed]",
      "text/plain": [
       "<Figure size 432x288 with 1 Axes>"
      ]
     },
     "metadata": {
      "image/png": {
       "height": 263,
       "width": 387
      },
      "needs_background": "light"
     },
     "output_type": "display_data"
    }
   ],
   "source": [
    "sns.barplot(data = df_modality_r2,\n",
    "           x = \"modality\", y =\"r2\")"
   ]
  },
  {
   "cell_type": "code",
   "execution_count": 70,
   "metadata": {},
   "outputs": [
    {
     "data": {
      "text/plain": [
       "<matplotlib.axes._subplots.AxesSubplot at 0x1a18bf5eb8>"
      ]
     },
     "execution_count": 70,
     "metadata": {},
     "output_type": "execute_result"
    },
    {
     "data": {
      "image/png": "[encoded data removed]",
      "text/plain": [
       "<Figure size 432x288 with 1 Axes>"
      ]
     },
     "metadata": {
      "image/png": {
       "height": 263,
       "width": 387
      },
      "needs_background": "light"
     },
     "output_type": "display_data"
    }
   ],
   "source": [
    "sns.barplot(data = df_modality_r2,\n",
    "           x = \"modality\", y =\"r2\", hue=\"ppt\")"
   ]
  },
  {
   "cell_type": "markdown",
   "metadata": {},
   "source": [
    "## Do PCA-reduced embeddings predict MDS-scaled similarity judgments?"
   ]
  },
  {
   "cell_type": "markdown",
   "metadata": {},
   "source": [
    "### Hierarchical clustering "
   ]
  },
  {
   "cell_type": "code",
   "execution_count": 9,
   "metadata": {},
   "outputs": [],
   "source": [
    "from scipy.cluster.hierarchy import dendrogram, linkage"
   ]
  },
  {
   "cell_type": "code",
   "execution_count": 10,
   "metadata": {},
   "outputs": [],
   "source": [
    "# Deal with NA rows\n",
    "df_merged = df_merged.fillna(0)"
   ]
  },
  {
   "cell_type": "code",
   "execution_count": 11,
   "metadata": {},
   "outputs": [],
   "source": [
    "X_sighted = df_merged[sighted_columns]\n",
    "X_blind = df_merged[blind_columns]"
   ]
  },
  {
   "cell_type": "code",
   "execution_count": 12,
   "metadata": {},
   "outputs": [],
   "source": [
    "linked_sighted = linkage(X_sighted, 'ward')\n",
    "linked_blind = linkage(X_blind, 'ward')"
   ]
  },
  {
   "cell_type": "code",
   "execution_count": 13,
   "metadata": {},
   "outputs": [
    {
     "data": {
      "text/plain": [
       "2026"
      ]
     },
     "execution_count": 13,
     "metadata": {},
     "output_type": "execute_result"
    }
   ],
   "source": [
    "len(linked_sighted)"
   ]
  },
  {
   "cell_type": "code",
   "execution_count": null,
   "metadata": {},
   "outputs": [],
   "source": []
  },
  {
   "cell_type": "code",
   "execution_count": null,
   "metadata": {},
   "outputs": [],
   "source": []
  },
  {
   "cell_type": "markdown",
   "metadata": {},
   "source": [
    "### Multidimensional scaling\n",
    "\n",
    "Now we replicate the MDS-scaling on the similarity judgments for each item for blind and sighted participants, using four dimensions:\n",
    "\n",
    "\"Based on this heuristic, we report the results of basic MDS models fit with 4 dimensions.\" (pg. 109)."
   ]
  },
  {
   "cell_type": "code",
   "execution_count": 28,
   "metadata": {},
   "outputs": [],
   "source": [
    "from sklearn.manifold import MDS"
   ]
  },
  {
   "cell_type": "code",
   "execution_count": 29,
   "metadata": {},
   "outputs": [],
   "source": [
    "df_merged = df_merged.fillna(0)"
   ]
  },
  {
   "cell_type": "code",
   "execution_count": 30,
   "metadata": {},
   "outputs": [],
   "source": [
    "X_sighted = df_merged[sighted_columns]\n",
    "X_blind = df_merged[blind_columns]"
   ]
  },
  {
   "cell_type": "code",
   "execution_count": 31,
   "metadata": {},
   "outputs": [],
   "source": [
    "embedding = MDS(n_components=4)\n",
    "X_sighted_transformed = embedding.fit_transform(X_sighted)"
   ]
  },
  {
   "cell_type": "code",
   "execution_count": 33,
   "metadata": {},
   "outputs": [],
   "source": [
    "df_mds_sighted = pd.DataFrame(X_sighted_transformed, columns=['d1', 'd2', 'd3', 'd4'])"
   ]
  },
  {
   "cell_type": "code",
   "execution_count": 35,
   "metadata": {},
   "outputs": [],
   "source": [
    "X_blind_transformed = embedding.fit_transform(X_blind)\n",
    "df_mds_blind = pd.DataFrame(X_blind_transformed, columns=['d1', 'd2', 'd3', 'd4'])"
   ]
  },
  {
   "cell_type": "code",
   "execution_count": 36,
   "metadata": {},
   "outputs": [],
   "source": [
    "# Kind of ugly, fix later\n",
    "df_merged['d1_sight'] = list(df_mds_sighted['d1'])\n",
    "df_merged['d2_sight'] = list(df_mds_sighted['d2'])\n",
    "df_merged['d3_sight'] = list(df_mds_sighted['d3'])\n",
    "df_merged['d4_sight'] = list(df_mds_sighted['d4'])\n",
    "df_merged['d1_blind'] = list(df_mds_blind['d1'])\n",
    "df_merged['d2_blind'] = list(df_mds_blind['d2'])\n",
    "df_merged['d3_blind'] = list(df_mds_blind['d3'])\n",
    "df_merged['d4_blind'] = list(df_mds_blind['d4'])"
   ]
  },
  {
   "cell_type": "code",
   "execution_count": 37,
   "metadata": {},
   "outputs": [
    {
     "data": {
      "text/html": [
       "<div>\n",
       "<style scoped>\n",
       "    .dataframe tbody tr th:only-of-type {\n",
       "        vertical-align: middle;\n",
       "    }\n",
       "\n",
       "    .dataframe tbody tr th {\n",
       "        vertical-align: top;\n",
       "    }\n",
       "\n",
       "    .dataframe thead th {\n",
       "        text-align: right;\n",
       "    }\n",
       "</style>\n",
       "<table border=\"1\" class=\"dataframe\">\n",
       "  <thead>\n",
       "    <tr style=\"text-align: right;\">\n",
       "      <th></th>\n",
       "      <th>Unnamed: 0</th>\n",
       "      <th>cosine_distance</th>\n",
       "      <th>w1</th>\n",
       "      <th>w2</th>\n",
       "      <th>combined_words</th>\n",
       "      <th>C1</th>\n",
       "      <th>C2</th>\n",
       "      <th>S1</th>\n",
       "      <th>S2</th>\n",
       "      <th>Category</th>\n",
       "      <th>...</th>\n",
       "      <th>blind_avg</th>\n",
       "      <th>sighted_avg</th>\n",
       "      <th>d1_sight</th>\n",
       "      <th>d2_sight</th>\n",
       "      <th>d3_sight</th>\n",
       "      <th>d4_sight</th>\n",
       "      <th>d1_blind</th>\n",
       "      <th>d2_blind</th>\n",
       "      <th>d3_blind</th>\n",
       "      <th>d4_blind</th>\n",
       "    </tr>\n",
       "  </thead>\n",
       "  <tbody>\n",
       "    <tr>\n",
       "      <th>0</th>\n",
       "      <td>0</td>\n",
       "      <td>0.900461</td>\n",
       "      <td>blaze</td>\n",
       "      <td>blink</td>\n",
       "      <td>blaze_blink</td>\n",
       "      <td>Light</td>\n",
       "      <td>Light</td>\n",
       "      <td>Light</td>\n",
       "      <td>Light</td>\n",
       "      <td>Emission</td>\n",
       "      <td>...</td>\n",
       "      <td>2.20</td>\n",
       "      <td>1.545455</td>\n",
       "      <td>1.526694</td>\n",
       "      <td>1.210300</td>\n",
       "      <td>-5.025918</td>\n",
       "      <td>0.248381</td>\n",
       "      <td>2.223455</td>\n",
       "      <td>1.036150</td>\n",
       "      <td>1.990462</td>\n",
       "      <td>-5.101778</td>\n",
       "    </tr>\n",
       "    <tr>\n",
       "      <th>1</th>\n",
       "      <td>1</td>\n",
       "      <td>0.780368</td>\n",
       "      <td>blaze</td>\n",
       "      <td>flare</td>\n",
       "      <td>blaze_flare</td>\n",
       "      <td>Light</td>\n",
       "      <td>Light</td>\n",
       "      <td>Light</td>\n",
       "      <td>Light</td>\n",
       "      <td>Emission</td>\n",
       "      <td>...</td>\n",
       "      <td>4.96</td>\n",
       "      <td>4.863636</td>\n",
       "      <td>-7.815662</td>\n",
       "      <td>-3.917927</td>\n",
       "      <td>9.172263</td>\n",
       "      <td>-1.605038</td>\n",
       "      <td>-0.562645</td>\n",
       "      <td>-11.459492</td>\n",
       "      <td>-8.521721</td>\n",
       "      <td>-2.759877</td>\n",
       "    </tr>\n",
       "    <tr>\n",
       "      <th>2</th>\n",
       "      <td>2</td>\n",
       "      <td>0.929387</td>\n",
       "      <td>blaze</td>\n",
       "      <td>flash</td>\n",
       "      <td>blaze_flash</td>\n",
       "      <td>Light</td>\n",
       "      <td>Light</td>\n",
       "      <td>Light</td>\n",
       "      <td>Light</td>\n",
       "      <td>Emission</td>\n",
       "      <td>...</td>\n",
       "      <td>4.40</td>\n",
       "      <td>3.909091</td>\n",
       "      <td>-5.946512</td>\n",
       "      <td>-5.775250</td>\n",
       "      <td>3.677996</td>\n",
       "      <td>-3.653852</td>\n",
       "      <td>-0.277162</td>\n",
       "      <td>-11.028081</td>\n",
       "      <td>-2.797416</td>\n",
       "      <td>0.870127</td>\n",
       "    </tr>\n",
       "    <tr>\n",
       "      <th>3</th>\n",
       "      <td>3</td>\n",
       "      <td>0.865661</td>\n",
       "      <td>blaze</td>\n",
       "      <td>flicker</td>\n",
       "      <td>blaze_flicker</td>\n",
       "      <td>Light</td>\n",
       "      <td>Light</td>\n",
       "      <td>Light</td>\n",
       "      <td>Light</td>\n",
       "      <td>Emission</td>\n",
       "      <td>...</td>\n",
       "      <td>3.48</td>\n",
       "      <td>3.590909</td>\n",
       "      <td>-4.360268</td>\n",
       "      <td>-4.617804</td>\n",
       "      <td>5.279388</td>\n",
       "      <td>4.146550</td>\n",
       "      <td>-1.664323</td>\n",
       "      <td>-3.533919</td>\n",
       "      <td>-0.277514</td>\n",
       "      <td>-9.861976</td>\n",
       "    </tr>\n",
       "    <tr>\n",
       "      <th>4</th>\n",
       "      <td>4</td>\n",
       "      <td>0.856313</td>\n",
       "      <td>blaze</td>\n",
       "      <td>gleam</td>\n",
       "      <td>blaze_gleam</td>\n",
       "      <td>Light</td>\n",
       "      <td>Light</td>\n",
       "      <td>Light</td>\n",
       "      <td>Light</td>\n",
       "      <td>Emission</td>\n",
       "      <td>...</td>\n",
       "      <td>3.52</td>\n",
       "      <td>3.954545</td>\n",
       "      <td>-7.364134</td>\n",
       "      <td>0.260002</td>\n",
       "      <td>4.543729</td>\n",
       "      <td>-3.187869</td>\n",
       "      <td>2.060951</td>\n",
       "      <td>-3.435050</td>\n",
       "      <td>-5.228298</td>\n",
       "      <td>-6.855814</td>\n",
       "    </tr>\n",
       "  </tbody>\n",
       "</table>\n",
       "<p>5 rows × 71 columns</p>\n",
       "</div>"
      ],
      "text/plain": [
       "   Unnamed: 0  cosine_distance     w1       w2 combined_words     C1     C2  \\\n",
       "0           0         0.900461  blaze    blink    blaze_blink  Light  Light   \n",
       "1           1         0.780368  blaze    flare    blaze_flare  Light  Light   \n",
       "2           2         0.929387  blaze    flash    blaze_flash  Light  Light   \n",
       "3           3         0.865661  blaze  flicker  blaze_flicker  Light  Light   \n",
       "4           4         0.856313  blaze    gleam    blaze_gleam  Light  Light   \n",
       "\n",
       "      S1     S2  Category    ...    blind_avg sighted_avg  d1_sight  d2_sight  \\\n",
       "0  Light  Light  Emission    ...         2.20    1.545455  1.526694  1.210300   \n",
       "1  Light  Light  Emission    ...         4.96    4.863636 -7.815662 -3.917927   \n",
       "2  Light  Light  Emission    ...         4.40    3.909091 -5.946512 -5.775250   \n",
       "3  Light  Light  Emission    ...         3.48    3.590909 -4.360268 -4.617804   \n",
       "4  Light  Light  Emission    ...         3.52    3.954545 -7.364134  0.260002   \n",
       "\n",
       "   d3_sight  d4_sight  d1_blind   d2_blind  d3_blind  d4_blind  \n",
       "0 -5.025918  0.248381  2.223455   1.036150  1.990462 -5.101778  \n",
       "1  9.172263 -1.605038 -0.562645 -11.459492 -8.521721 -2.759877  \n",
       "2  3.677996 -3.653852 -0.277162 -11.028081 -2.797416  0.870127  \n",
       "3  5.279388  4.146550 -1.664323  -3.533919 -0.277514 -9.861976  \n",
       "4  4.543729 -3.187869  2.060951  -3.435050 -5.228298 -6.855814  \n",
       "\n",
       "[5 rows x 71 columns]"
      ]
     },
     "execution_count": 37,
     "metadata": {},
     "output_type": "execute_result"
    }
   ],
   "source": [
    "df_merged.head(5)"
   ]
  },
  {
   "cell_type": "code",
   "execution_count": 38,
   "metadata": {},
   "outputs": [],
   "source": [
    "df_merged.to_csv(\"data/processed/judgments_plus_mds.csv\")"
   ]
  },
  {
   "cell_type": "markdown",
   "metadata": {},
   "source": [
    "### Compute MDS centroids"
   ]
  },
  {
   "cell_type": "code",
   "execution_count": 30,
   "metadata": {},
   "outputs": [],
   "source": [
    "df_merged = pd.read_csv(\"data/processed/judgments_plus_mds.csv\")\n",
    "df_verbs = pd.read_csv(\"data/processed/verbs_with_embeddings.csv\")"
   ]
  },
  {
   "cell_type": "code",
   "execution_count": 31,
   "metadata": {},
   "outputs": [],
   "source": [
    "import numpy as np\n",
    "df_centroids = df_merged.groupby('w1').agg({\n",
    "    'd1_blind': np.mean,\n",
    "    'd2_blind': np.mean,\n",
    "    'd3_blind': np.mean,\n",
    "    'd4_blind': np.mean,\n",
    "    'd1_sight': np.mean,\n",
    "    'd2_sight': np.mean,\n",
    "    'd3_sight': np.mean,\n",
    "    'd4_sight': np.mean\n",
    "}).reset_index()"
   ]
  },
  {
   "cell_type": "code",
   "execution_count": 36,
   "metadata": {},
   "outputs": [
    {
     "data": {
      "text/html": [
       "<div>\n",
       "<style scoped>\n",
       "    .dataframe tbody tr th:only-of-type {\n",
       "        vertical-align: middle;\n",
       "    }\n",
       "\n",
       "    .dataframe tbody tr th {\n",
       "        vertical-align: top;\n",
       "    }\n",
       "\n",
       "    .dataframe thead th {\n",
       "        text-align: right;\n",
       "    }\n",
       "</style>\n",
       "<table border=\"1\" class=\"dataframe\">\n",
       "  <thead>\n",
       "    <tr style=\"text-align: right;\">\n",
       "      <th></th>\n",
       "      <th>w1</th>\n",
       "      <th>d1_blind</th>\n",
       "      <th>d2_blind</th>\n",
       "      <th>d3_blind</th>\n",
       "      <th>d4_blind</th>\n",
       "      <th>d1_sight</th>\n",
       "      <th>d2_sight</th>\n",
       "      <th>d3_sight</th>\n",
       "      <th>d4_sight</th>\n",
       "    </tr>\n",
       "  </thead>\n",
       "  <tbody>\n",
       "    <tr>\n",
       "      <th>0</th>\n",
       "      <td>bark</td>\n",
       "      <td>-2.828115</td>\n",
       "      <td>-0.287135</td>\n",
       "      <td>0.554778</td>\n",
       "      <td>-1.354478</td>\n",
       "      <td>-2.081863</td>\n",
       "      <td>0.885201</td>\n",
       "      <td>0.360212</td>\n",
       "      <td>-1.686473</td>\n",
       "    </tr>\n",
       "    <tr>\n",
       "      <th>1</th>\n",
       "      <td>beep</td>\n",
       "      <td>-3.600926</td>\n",
       "      <td>1.543128</td>\n",
       "      <td>1.665730</td>\n",
       "      <td>-0.507831</td>\n",
       "      <td>-1.267929</td>\n",
       "      <td>1.067074</td>\n",
       "      <td>-1.240600</td>\n",
       "      <td>-0.999277</td>\n",
       "    </tr>\n",
       "    <tr>\n",
       "      <th>2</th>\n",
       "      <td>bellow</td>\n",
       "      <td>-3.412271</td>\n",
       "      <td>-1.070986</td>\n",
       "      <td>1.269794</td>\n",
       "      <td>-1.918467</td>\n",
       "      <td>-1.796253</td>\n",
       "      <td>1.474152</td>\n",
       "      <td>0.469891</td>\n",
       "      <td>-2.067675</td>\n",
       "    </tr>\n",
       "    <tr>\n",
       "      <th>3</th>\n",
       "      <td>blaze</td>\n",
       "      <td>0.624118</td>\n",
       "      <td>0.922406</td>\n",
       "      <td>-1.185959</td>\n",
       "      <td>-1.055760</td>\n",
       "      <td>-0.777373</td>\n",
       "      <td>-1.578411</td>\n",
       "      <td>-1.532679</td>\n",
       "      <td>0.447354</td>\n",
       "    </tr>\n",
       "    <tr>\n",
       "      <th>4</th>\n",
       "      <td>blink</td>\n",
       "      <td>0.367619</td>\n",
       "      <td>2.400966</td>\n",
       "      <td>0.272074</td>\n",
       "      <td>0.928457</td>\n",
       "      <td>1.237538</td>\n",
       "      <td>-1.544484</td>\n",
       "      <td>-3.457887</td>\n",
       "      <td>0.528423</td>\n",
       "    </tr>\n",
       "  </tbody>\n",
       "</table>\n",
       "</div>"
      ],
      "text/plain": [
       "       w1  d1_blind  d2_blind  d3_blind  d4_blind  d1_sight  d2_sight  \\\n",
       "0    bark -2.828115 -0.287135  0.554778 -1.354478 -2.081863  0.885201   \n",
       "1    beep -3.600926  1.543128  1.665730 -0.507831 -1.267929  1.067074   \n",
       "2  bellow -3.412271 -1.070986  1.269794 -1.918467 -1.796253  1.474152   \n",
       "3   blaze  0.624118  0.922406 -1.185959 -1.055760 -0.777373 -1.578411   \n",
       "4   blink  0.367619  2.400966  0.272074  0.928457  1.237538 -1.544484   \n",
       "\n",
       "   d3_sight  d4_sight  \n",
       "0  0.360212 -1.686473  \n",
       "1 -1.240600 -0.999277  \n",
       "2  0.469891 -2.067675  \n",
       "3 -1.532679  0.447354  \n",
       "4 -3.457887  0.528423  "
      ]
     },
     "execution_count": 36,
     "metadata": {},
     "output_type": "execute_result"
    }
   ],
   "source": [
    "df_centroids.head(5)"
   ]
  },
  {
   "cell_type": "code",
   "execution_count": 37,
   "metadata": {},
   "outputs": [],
   "source": [
    "df_verbs['w1'] = list(df_verbs['verb'])\n",
    "df_centroid_plus_verbs = pd.merge(df_centroids, df_verbs, on=\"w1\")"
   ]
  },
  {
   "cell_type": "code",
   "execution_count": 155,
   "metadata": {},
   "outputs": [],
   "source": [
    "# Map onto modalities\n",
    "modalities = {'light': 'vision',\n",
    "             'sound_inanimate': 'sound',\n",
    "             'sound_animate': 'sound',\n",
    "             'amodal': 'amodal',\n",
    "              'motion': 'motion',\n",
    "              'sight': 'vision',\n",
    "              'touch': 'touch'}\n",
    "df_centroid_plus_verbs['modality'] = df_centroid_plus_verbs['subcategory'].apply(lambda x: modalities[x])"
   ]
  },
  {
   "cell_type": "code",
   "execution_count": 158,
   "metadata": {},
   "outputs": [
    {
     "data": {
      "text/plain": [
       "Text(0.5, 1.0, 'MDS (Sighted) for Perception verbs')"
      ]
     },
     "execution_count": 158,
     "metadata": {},
     "output_type": "execute_result"
    },
    {
     "data": {
      "image/png": "[encoded data removed]",
      "text/plain": [
       "<Figure size 433.125x360 with 1 Axes>"
      ]
     },
     "metadata": {
      "image/png": {
       "height": 363,
       "width": 421
      },
      "needs_background": "light"
     },
     "output_type": "display_data"
    }
   ],
   "source": [
    "sns.lmplot(x=\"d1_sight\", y=\"d2_sight\", data=df_centroid_plus_verbs[df_centroid_plus_verbs['category']==\"perception\"], \n",
    "           fit_reg=False, hue='modality',\n",
    "           legend=True)\n",
    "plt.title(\"MDS (Sighted) for Perception verbs\")"
   ]
  },
  {
   "cell_type": "code",
   "execution_count": 160,
   "metadata": {},
   "outputs": [
    {
     "data": {
      "text/plain": [
       "Text(0.5, 1.0, 'MDS (Blind) for Perception verbs')"
      ]
     },
     "execution_count": 160,
     "metadata": {},
     "output_type": "execute_result"
    },
    {
     "data": {
      "image/png": "[encoded data removed]",
      "text/plain": [
       "<Figure size 433.125x360 with 1 Axes>"
      ]
     },
     "metadata": {
      "image/png": {
       "height": 363,
       "width": 421
      },
      "needs_background": "light"
     },
     "output_type": "display_data"
    }
   ],
   "source": [
    "sns.lmplot(x=\"d1_blind\", y=\"d2_blind\", data=df_centroid_plus_verbs[df_centroid_plus_verbs['category']==\"perception\"], \n",
    "           fit_reg=False, hue='modality',\n",
    "           legend=True)\n",
    "plt.title(\"MDS (Blind) for Perception verbs\")"
   ]
  },
  {
   "cell_type": "code",
   "execution_count": 161,
   "metadata": {},
   "outputs": [
    {
     "data": {
      "text/plain": [
       "Text(0.5, 1.0, 'MDS (Sighted) for Emission verbs')"
      ]
     },
     "execution_count": 161,
     "metadata": {},
     "output_type": "execute_result"
    },
    {
     "data": {
      "image/png": "[encoded data removed]",
      "text/plain": [
       "<Figure size 426.375x360 with 1 Axes>"
      ]
     },
     "metadata": {
      "image/png": {
       "height": 363,
       "width": 415
      },
      "needs_background": "light"
     },
     "output_type": "display_data"
    }
   ],
   "source": [
    "sns.lmplot(x=\"d1_sight\", y=\"d2_sight\", data=df_centroid_plus_verbs[df_centroid_plus_verbs['category']==\"emission\"], \n",
    "           fit_reg=False, hue='modality',\n",
    "           legend=True)\n",
    "plt.title(\"MDS (Sighted) for Emission verbs\")"
   ]
  },
  {
   "cell_type": "code",
   "execution_count": 162,
   "metadata": {},
   "outputs": [
    {
     "data": {
      "text/plain": [
       "Text(0.5, 1.0, 'MDS (Blind) for Emission verbs')"
      ]
     },
     "execution_count": 162,
     "metadata": {},
     "output_type": "execute_result"
    },
    {
     "data": {
      "image/png": "[encoded data removed]",
      "text/plain": [
       "<Figure size 426.375x360 with 1 Axes>"
      ]
     },
     "metadata": {
      "image/png": {
       "height": 363,
       "width": 415
      },
      "needs_background": "light"
     },
     "output_type": "display_data"
    }
   ],
   "source": [
    "sns.lmplot(x=\"d1_blind\", y=\"d2_blind\", data=df_centroid_plus_verbs[df_centroid_plus_verbs['category']==\"emission\"], \n",
    "           fit_reg=False, hue='modality',\n",
    "           legend=True)\n",
    "plt.title(\"MDS (Blind) for Emission verbs\")"
   ]
  },
  {
   "cell_type": "markdown",
   "metadata": {},
   "source": [
    "### Predict MDS with PCA embeddings\n",
    "\n",
    "Here, we predict both pretty well, and do a slightly better job predicting MDS scalings from **blind** participants than **sighted**."
   ]
  },
  {
   "cell_type": "code",
   "execution_count": 163,
   "metadata": {},
   "outputs": [],
   "source": [
    "from sklearn import linear_model"
   ]
  },
  {
   "cell_type": "code",
   "execution_count": 164,
   "metadata": {},
   "outputs": [],
   "source": [
    "y_blind = df_centroid_plus_verbs[['d1_blind', 'd2_blind', 'd3_blind', 'd4_blind']].values\n",
    "y_sighted = df_centroid_plus_verbs[['d1_sight', 'd2_sight', 'd3_sight', 'd4_sight']].values\n",
    "\n",
    "X = df_centroid_plus_verbs[['pc1', 'pc2']].values"
   ]
  },
  {
   "cell_type": "code",
   "execution_count": 165,
   "metadata": {},
   "outputs": [
    {
     "data": {
      "text/plain": [
       "0.12782723750138741"
      ]
     },
     "execution_count": 165,
     "metadata": {},
     "output_type": "execute_result"
    }
   ],
   "source": [
    "lm = linear_model.LinearRegression()\n",
    "model = lm.fit(X,y_blind)\n",
    "lm.score(X, y_blind)"
   ]
  },
  {
   "cell_type": "code",
   "execution_count": 166,
   "metadata": {
    "scrolled": false
   },
   "outputs": [
    {
     "data": {
      "text/plain": [
       "0.12004514919402554"
      ]
     },
     "execution_count": 166,
     "metadata": {},
     "output_type": "execute_result"
    }
   ],
   "source": [
    "lm = linear_model.LinearRegression()\n",
    "model = lm.fit(X,y_sighted)\n",
    "lm.score(X, y_sighted)"
   ]
  },
  {
   "cell_type": "markdown",
   "metadata": {},
   "source": [
    "### Now we predict on specific modalities"
   ]
  },
  {
   "cell_type": "code",
   "execution_count": 167,
   "metadata": {},
   "outputs": [],
   "source": [
    "modality_to_r2 = []\n",
    "\n",
    "for modality in set(list(df_centroid_plus_verbs['modality'])):\n",
    "    df_reduced = df_centroid_plus_verbs[df_centroid_plus_verbs['modality']==modality]\n",
    "    \n",
    "    y_blind = df_reduced[['d1_blind', 'd2_blind', 'd3_blind', 'd4_blind']].values\n",
    "    y_sighted = df_reduced[['d1_sight', 'd2_sight', 'd3_sight', 'd4_sight']].values\n",
    "\n",
    "    X = df_reduced[['pc1', 'pc2']].values\n",
    "    \n",
    "    lm = linear_model.LinearRegression()\n",
    "    model = lm.fit(X,y_blind)\n",
    "    score_blind = lm.score(X, y_blind)\n",
    "    \n",
    "    lm = linear_model.LinearRegression()\n",
    "    model = lm.fit(X,y_sighted)\n",
    "    score_sight = lm.score(X, y_sighted)\n",
    "    \n",
    "    modality_to_r2.append({\n",
    "        'modality': modality,\n",
    "        'score': score_blind,\n",
    "        'ppt': 'blind'\n",
    "    })\n",
    "    \n",
    "    modality_to_r2.append({\n",
    "        'modality': modality,\n",
    "        'score': score_sight,\n",
    "        'ppt': 'sight'\n",
    "    })"
   ]
  },
  {
   "cell_type": "code",
   "execution_count": 168,
   "metadata": {},
   "outputs": [],
   "source": [
    "df_r2_modalities = pd.DataFrame(modality_to_r2)"
   ]
  },
  {
   "cell_type": "code",
   "execution_count": 169,
   "metadata": {
    "scrolled": true
   },
   "outputs": [
    {
     "name": "stderr",
     "output_type": "stream",
     "text": [
      "/Users/seantrott/anaconda3/lib/python3.7/site-packages/scipy/stats/stats.py:1713: FutureWarning: Using a non-tuple sequence for multidimensional indexing is deprecated; use `arr[tuple(seq)]` instead of `arr[seq]`. In the future this will be interpreted as an array index, `arr[np.array(seq)]`, which will result either in an error or a different result.\n",
      "  return np.add.reduce(sorted[indexer] * weights, axis=axis) / sumval\n"
     ]
    },
    {
     "data": {
      "text/plain": [
       "<matplotlib.axes._subplots.AxesSubplot at 0x1a279b93c8>"
      ]
     },
     "execution_count": 169,
     "metadata": {},
     "output_type": "execute_result"
    },
    {
     "data": {
      "image/png": "[encoded data removed]",
      "text/plain": [
       "<Figure size 432x288 with 1 Axes>"
      ]
     },
     "metadata": {
      "image/png": {
       "height": 263,
       "width": 393
      },
      "needs_background": "light"
     },
     "output_type": "display_data"
    }
   ],
   "source": [
    "sns.barplot(x=\"ppt\", y=\"score\", data = df_r2_modalities)"
   ]
  },
  {
   "cell_type": "code",
   "execution_count": 170,
   "metadata": {
    "scrolled": false
   },
   "outputs": [
    {
     "data": {
      "text/plain": [
       "<matplotlib.axes._subplots.AxesSubplot at 0x1a27d5a1d0>"
      ]
     },
     "execution_count": 170,
     "metadata": {},
     "output_type": "execute_result"
    },
    {
     "data": {
      "image/png": "[encoded data removed]",
      "text/plain": [
       "<Figure size 432x288 with 1 Axes>"
      ]
     },
     "metadata": {
      "image/png": {
       "height": 263,
       "width": 393
      },
      "needs_background": "light"
     },
     "output_type": "display_data"
    }
   ],
   "source": [
    "sns.barplot(x=\"modality\", y=\"score\", data = df_r2_modalities)"
   ]
  },
  {
   "cell_type": "code",
   "execution_count": 171,
   "metadata": {
    "scrolled": true
   },
   "outputs": [
    {
     "data": {
      "text/plain": [
       "<matplotlib.axes._subplots.AxesSubplot at 0x1a27ce27f0>"
      ]
     },
     "execution_count": 171,
     "metadata": {},
     "output_type": "execute_result"
    },
    {
     "data": {
      "image/png": "[encoded data removed]",
      "text/plain": [
       "<Figure size 432x288 with 1 Axes>"
      ]
     },
     "metadata": {
      "image/png": {
       "height": 263,
       "width": 393
      },
      "needs_background": "light"
     },
     "output_type": "display_data"
    }
   ],
   "source": [
    "sns.barplot(x=\"modality\", y=\"score\", hue=\"ppt\", data = df_r2_modalities)"
   ]
  },
  {
   "cell_type": "markdown",
   "metadata": {},
   "source": [
    "### Now use train/test split"
   ]
  },
  {
   "cell_type": "code",
   "execution_count": 150,
   "metadata": {},
   "outputs": [],
   "source": [
    "from sklearn.model_selection import ShuffleSplit"
   ]
  },
  {
   "cell_type": "code",
   "execution_count": 151,
   "metadata": {},
   "outputs": [],
   "source": [
    "modality_to_scores = []\n",
    "\n",
    "for modality in set(list(df_centroid_plus_verbs['modality'])):\n",
    "    df_reduced = df_centroid_plus_verbs[df_centroid_plus_verbs['modality']==modality]\n",
    "\n",
    "    y_blind = df_reduced[['d1_blind', 'd2_blind', 'd3_blind', 'd4_blind']].values\n",
    "    y_sighted = df_reduced[['d1_sight', 'd2_sight', 'd3_sight', 'd4_sight']].values\n",
    "\n",
    "    X = df_reduced[['pc1', 'pc2']].values\n",
    "\n",
    "    # X = np.array([ast.literal_eval(x) for x in df_reduced['contextualized_embedding'].values])\n",
    "    \n",
    "    rs = ShuffleSplit(n_splits=1, train_size=0.75, test_size=.25,\n",
    "                  random_state=0)\n",
    "    for train_index, test_index in rs.split(X):\n",
    "        X_train, X_test = X[train_index], X[test_index]\n",
    "\n",
    "        y_train_sight, y_test_sight = y_sighted[train_index], y_sighted[test_index]\n",
    "        y_train_blind, y_test_blind = y_blind[train_index], y_blind[test_index]\n",
    "\n",
    "        model = lm.fit(X_train,y_train_sight)\n",
    "        score_sight = model.score(X_test, y_test_sight)\n",
    "\n",
    "        model = lm.fit(X_train,y_train_blind)\n",
    "        score_blind = model.score(X_test, y_test_blind)\n",
    "\n",
    "        modality_to_scores.append({\n",
    "            'modality': modality,\n",
    "            'score': score_sight,\n",
    "            'ppt': 'sight'\n",
    "        })\n",
    "        modality_to_scores.append({\n",
    "            'modality': modality,\n",
    "            'score': score_blind,\n",
    "            'ppt': 'blind'\n",
    "        })\n"
   ]
  },
  {
   "cell_type": "code",
   "execution_count": 152,
   "metadata": {},
   "outputs": [],
   "source": [
    "df_scores = pd.DataFrame(modality_to_scores)"
   ]
  },
  {
   "cell_type": "code",
   "execution_count": 153,
   "metadata": {},
   "outputs": [
    {
     "name": "stderr",
     "output_type": "stream",
     "text": [
      "/Users/seantrott/anaconda3/lib/python3.7/site-packages/scipy/stats/stats.py:1713: FutureWarning: Using a non-tuple sequence for multidimensional indexing is deprecated; use `arr[tuple(seq)]` instead of `arr[seq]`. In the future this will be interpreted as an array index, `arr[np.array(seq)]`, which will result either in an error or a different result.\n",
      "  return np.add.reduce(sorted[indexer] * weights, axis=axis) / sumval\n"
     ]
    },
    {
     "data": {
      "text/plain": [
       "<matplotlib.axes._subplots.AxesSubplot at 0x1a253ef358>"
      ]
     },
     "execution_count": 153,
     "metadata": {},
     "output_type": "execute_result"
    },
    {
     "data": {
      "image/png": "[encoded data removed]",
      "text/plain": [
       "<Figure size 432x288 with 1 Axes>"
      ]
     },
     "metadata": {
      "image/png": {
       "height": 265,
       "width": 402
      },
      "needs_background": "light"
     },
     "output_type": "display_data"
    }
   ],
   "source": [
    "sns.barplot(x=\"ppt\", y=\"score\", data = df_scores)"
   ]
  },
  {
   "cell_type": "code",
   "execution_count": 154,
   "metadata": {},
   "outputs": [
    {
     "data": {
      "text/plain": [
       "<matplotlib.axes._subplots.AxesSubplot at 0x1a2648cfd0>"
      ]
     },
     "execution_count": 154,
     "metadata": {},
     "output_type": "execute_result"
    },
    {
     "data": {
      "image/png": "[encoded data removed]",
      "text/plain": [
       "<Figure size 432x288 with 1 Axes>"
      ]
     },
     "metadata": {
      "image/png": {
       "height": 263,
       "width": 395
      },
      "needs_background": "light"
     },
     "output_type": "display_data"
    }
   ],
   "source": [
    "sns.barplot(x=\"modality\", y=\"score\", hue = \"ppt\", data = df_scores)"
   ]
  },
  {
   "cell_type": "code",
   "execution_count": null,
   "metadata": {},
   "outputs": [],
   "source": []
  }
 ],
 "metadata": {
  "kernelspec": {
   "display_name": "Python 3",
   "language": "python",
   "name": "python3"
  },
  "language_info": {
   "codemirror_mode": {
    "name": "ipython",
    "version": 3
   },
   "file_extension": ".py",
   "mimetype": "text/x-python",
   "name": "python",
   "nbconvert_exporter": "python",
   "pygments_lexer": "ipython3",
   "version": "3.7.1"
  }
 },
 "nbformat": 4,
 "nbformat_minor": 2
}
