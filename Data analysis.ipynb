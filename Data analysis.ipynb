{
 "cells": [
  {
   "cell_type": "markdown",
   "metadata": {},
   "source": [
    "# Modeling similarity judgments with word embeddings\n",
    "\n",
    "Previous work has illustrated that similarity judgments between words can be estimated using distributional models of word meaning. But are there certain kinds of words for which distributioanl information is more or less useful?\n",
    "\n",
    "There are theoretical reasons to think that distributional information is more helpful for learning abstract concepts/words (Lupyan & Winter, 2018), and some empirical evidence as well (Kiros et al, 2018). But so far, others have not asked whether distributional information better predicts similarity judgments as a function of the *level of abstractness* of a word, or other kinds of semantic features. \n",
    "\n",
    "We use the Brysbaert norms as an estimate of concreteness, and ELMo as a model for word embeddings.\n",
    "\n",
    "For the pairwise similarity judgments, we will consider several different datasets in turn.\n",
    "\n",
    "For a given dataset, we classify each wordpair into one of three bins: `Abstract`, `Concrete`, and `Mixed`. `Abstract` corresponds to a wordpair in which both words fall below the median concreteness, `Concrete` corresponds to a wordpair in which both words fall above, and `Mixed` means that one falls below and one falls above.\n",
    "\n",
    "We then regress `similarity ~ cosine_distance` for Abstract wordpairs only, and Concrete wordpairs only, and compare the resulting `R^2` values.\n",
    "\n",
    "### Median split \n",
    "\n",
    "Because each dataset isn't balanced in terms of its concreteness, we can't necessarily use the median split from the Brysbaert norms. Thus, we run and report two approaches to splitting the data:\n",
    "\n",
    "1) Using the median concreteness from a given dataset.  \n",
    "2) Using the median concreteness from the four datasets we consider.\n",
    "\n",
    "(1) will ensure that a given dataset is balanced, but might result in the same words being considered `Abstract` or `Concrete` in different datasets.\n",
    "\n",
    "(2) will result in less balanced datasets, but still more balanced than using the single Brysbaert norm, and will ensure consistency in which words are categorized as `Abstract` or `Concrete` across datasets.\n"
   ]
  },
  {
   "cell_type": "code",
   "execution_count": 1,
   "metadata": {},
   "outputs": [],
   "source": [
    "import pandas as pd\n",
    "from tqdm import tqdm\n",
    "import itertools\n",
    "import scipy\n",
    "import seaborn as sns\n",
    "import matplotlib.pyplot as plt\n",
    "import statistics\n",
    "import statsmodels.formula.api as sm\n",
    "import numpy as np"
   ]
  },
  {
   "cell_type": "code",
   "execution_count": 2,
   "metadata": {},
   "outputs": [],
   "source": [
    "%matplotlib inline\n",
    "%config InlineBackend.figure_format = 'retina'  # makes figs nicer!"
   ]
  },
  {
   "cell_type": "markdown",
   "metadata": {},
   "source": [
    "# Helper functions"
   ]
  },
  {
   "cell_type": "code",
   "execution_count": 3,
   "metadata": {},
   "outputs": [],
   "source": [
    "def get_comparison_type(row):\n",
    "    if row['w1_is_abstract'] and row['w2_is_abstract']:\n",
    "        return \"Abstract\"\n",
    "    elif not row['w1_is_abstract'] and not row['w2_is_abstract']:\n",
    "        return \"Concrete\"\n",
    "    return \"Mixed\""
   ]
  },
  {
   "cell_type": "code",
   "execution_count": 4,
   "metadata": {},
   "outputs": [],
   "source": [
    "def tag_as_abstract(df, median_concreteness_amount):\n",
    "    \"\"\"Tag each word in a word pair as whether it is concrete, according to the median concreteness.\"\"\"\n",
    "    df['w1_is_abstract'] = df['w1_conc'].apply(lambda x: x < median_concreteness_amount)\n",
    "    df['w2_is_abstract'] = df['w2_conc'].apply(lambda x: x < median_concreteness_amount)\n",
    "    df['same'] = df['w1_is_abstract'] == df['w2_is_abstract']\n",
    "    return df"
   ]
  },
  {
   "cell_type": "code",
   "execution_count": 5,
   "metadata": {},
   "outputs": [],
   "source": [
    "def print_distribution(df):\n",
    "    \"\"\"Print out dataset distribution in terms of comparisons.\"\"\"\n",
    "    print(\"#Abstract: {n}\".format(n=len(df[df['Comparison Type']=='Abstract'])))\n",
    "    print(\"#Concrete: {n}\".format(n=len(df[df['Comparison Type']=='Concrete'])))\n",
    "    print(\"#Mixed: {n}\".format(n=len(df[df['Comparison Type']=='Mixed'])))"
   ]
  },
  {
   "cell_type": "code",
   "execution_count": 6,
   "metadata": {},
   "outputs": [],
   "source": [
    "def get_stats_for_dataset(df, formula, dataset):\n",
    "    \"\"\"Get R2 and coefficients for different subsets of dataset.\"\"\"\n",
    "    results = []\n",
    "    result = sm.ols(formula=FORMULA, \n",
    "                data=df).fit()\n",
    "    results.append({\n",
    "        'comparison': 'overall',\n",
    "        'r2': round(result.rsquared, 3),\n",
    "        'coef': round(result.params['decontextualized_elmo_similarity'], 3),\n",
    "        'se': round(result.bse['decontextualized_elmo_similarity'], 3),\n",
    "        'dataset': dataset,\n",
    "        'n': len(df)\n",
    "    })\n",
    "    for i in ['Abstract', 'Concrete', 'Mixed']:\n",
    "        df_reduced = df[df['Comparison Type']==i]\n",
    "        result = sm.ols(formula=FORMULA, \n",
    "                    data=df_reduced).fit()\n",
    "        results.append({\n",
    "            'comparison': i,\n",
    "            'r2': round(result.rsquared, 3),\n",
    "            'coef': round(result.params['decontextualized_elmo_similarity'], 3),\n",
    "            'se': round(result.bse['decontextualized_elmo_similarity'], 3),\n",
    "            'dataset': dataset,\n",
    "            'n': len(df_reduced)\n",
    "        })\n",
    "    \n",
    "    return pd.DataFrame(results)"
   ]
  },
  {
   "cell_type": "code",
   "execution_count": 7,
   "metadata": {},
   "outputs": [],
   "source": [
    "FORMULA = 'similarity ~ decontextualized_elmo_similarity'"
   ]
  },
  {
   "cell_type": "code",
   "execution_count": 8,
   "metadata": {},
   "outputs": [],
   "source": [
    "def leave_one_pair_out(df, formula):\n",
    "    \n",
    "    result = sm.ols(formula=formula, \n",
    "                data=df).fit()\n",
    "    original_coef = result.params['decontextualized_elmo_similarity']\n",
    "    \n",
    "    differences = []\n",
    "    for pair_index in tqdm(range(len(df))):\n",
    "        df_copy = df.copy()\n",
    "        df_copy = df_copy.drop(pair_index)\n",
    "        \n",
    "        result = sm.ols(formula=formula, \n",
    "            data=df_copy).fit()\n",
    "        new_coef = result.params['decontextualized_elmo_similarity']\n",
    "        differences.append(original_coef - new_coef)\n",
    "    return differences"
   ]
  },
  {
   "cell_type": "markdown",
   "metadata": {},
   "source": [
    "# Load datasets\n",
    "\n",
    "Load each processed dataset and print out descriptive statistics for it."
   ]
  },
  {
   "cell_type": "code",
   "execution_count": 9,
   "metadata": {},
   "outputs": [
    {
     "name": "stdout",
     "output_type": "stream",
     "text": [
      "3487\n",
      "824\n"
     ]
    }
   ],
   "source": [
    "df_sim = pd.read_csv(\"data/processed/sim3500_with_cosine_distance_5b.csv\")\n",
    "combined_sim = list(df_sim['w1']) + list(df_sim['w2'])\n",
    "print(len(df_sim))\n",
    "print(len(set(combined_sim)))"
   ]
  },
  {
   "cell_type": "code",
   "execution_count": 10,
   "metadata": {},
   "outputs": [
    {
     "name": "stdout",
     "output_type": "stream",
     "text": [
      "353\n",
      "437\n"
     ]
    }
   ],
   "source": [
    "df_wordsim = pd.read_csv(\"data/processed/wordsim_with_cosine_distance_5b.csv\")\n",
    "combined_wordsim = list(df_wordsim['Word 1']) + list(df_wordsim['Word 2'])\n",
    "print(len(df_wordsim))\n",
    "print(len(set(combined_wordsim)))"
   ]
  },
  {
   "cell_type": "code",
   "execution_count": 11,
   "metadata": {},
   "outputs": [
    {
     "name": "stdout",
     "output_type": "stream",
     "text": [
      "999\n",
      "1028\n"
     ]
    }
   ],
   "source": [
    "df_simlex = pd.read_csv(\"data/processed/simlex_with_cosine_distance_5b.csv\")\n",
    "combined_simlex = list(df_simlex['word1']) + list(df_simlex['word2'])\n",
    "print(len(df_simlex))\n",
    "print(len(set(combined_simlex)))"
   ]
  },
  {
   "cell_type": "code",
   "execution_count": 12,
   "metadata": {},
   "outputs": [
    {
     "name": "stdout",
     "output_type": "stream",
     "text": [
      "754\n",
      "1094\n"
     ]
    }
   ],
   "source": [
    "df_mturk = pd.read_csv(\"data/processed/mturk771_with_cosine_distance_5b.csv\")\n",
    "combined_mturk = list(df_mturk['w1']) + list(df_mturk['w2'])\n",
    "print(len(df_mturk))\n",
    "print(len(set(combined_mturk)))"
   ]
  },
  {
   "cell_type": "markdown",
   "metadata": {},
   "source": [
    "## Descriptive statistics about concreteness"
   ]
  },
  {
   "cell_type": "code",
   "execution_count": 13,
   "metadata": {},
   "outputs": [
    {
     "data": {
      "text/plain": [
       "3.03"
      ]
     },
     "execution_count": 13,
     "metadata": {},
     "output_type": "execute_result"
    }
   ],
   "source": [
    "combined = list(df_sim['w1_conc']) +  list(df_sim['w2_conc'])\n",
    "simverb_conc = statistics.median(combined)\n",
    "simverb_conc"
   ]
  },
  {
   "cell_type": "code",
   "execution_count": 14,
   "metadata": {},
   "outputs": [
    {
     "data": {
      "text/plain": [
       "3.94"
      ]
     },
     "execution_count": 14,
     "metadata": {},
     "output_type": "execute_result"
    }
   ],
   "source": [
    "combined = list(df_wordsim['w1_conc']) +  list(df_wordsim['w2_conc'])\n",
    "wordsim_conc = statistics.median(combined)\n",
    "wordsim_conc"
   ]
  },
  {
   "cell_type": "code",
   "execution_count": 15,
   "metadata": {},
   "outputs": [
    {
     "data": {
      "text/plain": [
       "3.73"
      ]
     },
     "execution_count": 15,
     "metadata": {},
     "output_type": "execute_result"
    }
   ],
   "source": [
    "combined = list(df_simlex['w1_conc']) +  list(df_simlex['w2_conc'])\n",
    "simlex_conc = statistics.median(combined)\n",
    "simlex_conc"
   ]
  },
  {
   "cell_type": "code",
   "execution_count": 16,
   "metadata": {},
   "outputs": [
    {
     "data": {
      "text/plain": [
       "4.1"
      ]
     },
     "execution_count": 16,
     "metadata": {},
     "output_type": "execute_result"
    }
   ],
   "source": [
    "combined = list(df_mturk['w1_conc']) +  list(df_mturk['w2_conc'])\n",
    "mturk_conc = statistics.median(combined)\n",
    "mturk_conc"
   ]
  },
  {
   "cell_type": "code",
   "execution_count": 17,
   "metadata": {},
   "outputs": [
    {
     "data": {
      "text/plain": [
       "3.835"
      ]
     },
     "execution_count": 17,
     "metadata": {},
     "output_type": "execute_result"
    }
   ],
   "source": [
    "median_conc = statistics.median([simverb_conc, wordsim_conc, simlex_conc, mturk_conc])\n",
    "median_conc"
   ]
  },
  {
   "cell_type": "markdown",
   "metadata": {},
   "source": [
    "# Analysis"
   ]
  },
  {
   "cell_type": "markdown",
   "metadata": {},
   "source": [
    "## SimVerb"
   ]
  },
  {
   "cell_type": "markdown",
   "metadata": {},
   "source": [
    "### Approach 1: Using median concreteness for dataset"
   ]
  },
  {
   "cell_type": "code",
   "execution_count": 18,
   "metadata": {},
   "outputs": [
    {
     "name": "stdout",
     "output_type": "stream",
     "text": [
      "#Abstract: 1164\n",
      "#Concrete: 1179\n",
      "#Mixed: 1144\n"
     ]
    }
   ],
   "source": [
    "df_sim = tag_as_abstract(df_sim, simverb_conc)\n",
    "df_sim['Comparison Type'] = df_sim.apply(lambda row: get_comparison_type(row), axis=1)\n",
    "print_distribution(df_sim)"
   ]
  },
  {
   "cell_type": "code",
   "execution_count": 19,
   "metadata": {},
   "outputs": [
    {
     "data": {
      "text/html": [
       "<div>\n",
       "<style scoped>\n",
       "    .dataframe tbody tr th:only-of-type {\n",
       "        vertical-align: middle;\n",
       "    }\n",
       "\n",
       "    .dataframe tbody tr th {\n",
       "        vertical-align: top;\n",
       "    }\n",
       "\n",
       "    .dataframe thead th {\n",
       "        text-align: right;\n",
       "    }\n",
       "</style>\n",
       "<table border=\"1\" class=\"dataframe\">\n",
       "  <thead>\n",
       "    <tr style=\"text-align: right;\">\n",
       "      <th></th>\n",
       "      <th>coef</th>\n",
       "      <th>comparison</th>\n",
       "      <th>dataset</th>\n",
       "      <th>n</th>\n",
       "      <th>r2</th>\n",
       "      <th>se</th>\n",
       "    </tr>\n",
       "  </thead>\n",
       "  <tbody>\n",
       "    <tr>\n",
       "      <th>0</th>\n",
       "      <td>-10.740</td>\n",
       "      <td>overall</td>\n",
       "      <td>SimVerb</td>\n",
       "      <td>3487</td>\n",
       "      <td>0.207</td>\n",
       "      <td>0.356</td>\n",
       "    </tr>\n",
       "    <tr>\n",
       "      <th>1</th>\n",
       "      <td>-10.068</td>\n",
       "      <td>Abstract</td>\n",
       "      <td>SimVerb</td>\n",
       "      <td>1164</td>\n",
       "      <td>0.213</td>\n",
       "      <td>0.567</td>\n",
       "    </tr>\n",
       "    <tr>\n",
       "      <th>2</th>\n",
       "      <td>-9.074</td>\n",
       "      <td>Concrete</td>\n",
       "      <td>SimVerb</td>\n",
       "      <td>1179</td>\n",
       "      <td>0.129</td>\n",
       "      <td>0.686</td>\n",
       "    </tr>\n",
       "    <tr>\n",
       "      <th>3</th>\n",
       "      <td>-13.005</td>\n",
       "      <td>Mixed</td>\n",
       "      <td>SimVerb</td>\n",
       "      <td>1144</td>\n",
       "      <td>0.263</td>\n",
       "      <td>0.644</td>\n",
       "    </tr>\n",
       "  </tbody>\n",
       "</table>\n",
       "</div>"
      ],
      "text/plain": [
       "     coef comparison  dataset     n     r2     se\n",
       "0 -10.740    overall  SimVerb  3487  0.207  0.356\n",
       "1 -10.068   Abstract  SimVerb  1164  0.213  0.567\n",
       "2  -9.074   Concrete  SimVerb  1179  0.129  0.686\n",
       "3 -13.005      Mixed  SimVerb  1144  0.263  0.644"
      ]
     },
     "execution_count": 19,
     "metadata": {},
     "output_type": "execute_result"
    }
   ],
   "source": [
    "simverb1 = get_stats_for_dataset(df_sim, FORMULA, \"SimVerb\")\n",
    "simverb1"
   ]
  },
  {
   "cell_type": "markdown",
   "metadata": {},
   "source": [
    "### Approach 2: Using median concreteness across all four datasets"
   ]
  },
  {
   "cell_type": "code",
   "execution_count": 20,
   "metadata": {},
   "outputs": [
    {
     "name": "stdout",
     "output_type": "stream",
     "text": [
      "#Abstract: 2223\n",
      "#Concrete: 399\n",
      "#Mixed: 865\n"
     ]
    }
   ],
   "source": [
    "df_sim = tag_as_abstract(df_sim, median_conc)\n",
    "df_sim['Comparison Type'] = df_sim.apply(lambda row: get_comparison_type(row), axis=1)\n",
    "print_distribution(df_sim)"
   ]
  },
  {
   "cell_type": "code",
   "execution_count": 21,
   "metadata": {
    "scrolled": true
   },
   "outputs": [
    {
     "data": {
      "text/html": [
       "<div>\n",
       "<style scoped>\n",
       "    .dataframe tbody tr th:only-of-type {\n",
       "        vertical-align: middle;\n",
       "    }\n",
       "\n",
       "    .dataframe tbody tr th {\n",
       "        vertical-align: top;\n",
       "    }\n",
       "\n",
       "    .dataframe thead th {\n",
       "        text-align: right;\n",
       "    }\n",
       "</style>\n",
       "<table border=\"1\" class=\"dataframe\">\n",
       "  <thead>\n",
       "    <tr style=\"text-align: right;\">\n",
       "      <th></th>\n",
       "      <th>coef</th>\n",
       "      <th>comparison</th>\n",
       "      <th>dataset</th>\n",
       "      <th>n</th>\n",
       "      <th>r2</th>\n",
       "      <th>se</th>\n",
       "    </tr>\n",
       "  </thead>\n",
       "  <tbody>\n",
       "    <tr>\n",
       "      <th>0</th>\n",
       "      <td>-10.740</td>\n",
       "      <td>overall</td>\n",
       "      <td>SimVerb</td>\n",
       "      <td>3487</td>\n",
       "      <td>0.207</td>\n",
       "      <td>0.356</td>\n",
       "    </tr>\n",
       "    <tr>\n",
       "      <th>1</th>\n",
       "      <td>-10.810</td>\n",
       "      <td>Abstract</td>\n",
       "      <td>SimVerb</td>\n",
       "      <td>2223</td>\n",
       "      <td>0.224</td>\n",
       "      <td>0.428</td>\n",
       "    </tr>\n",
       "    <tr>\n",
       "      <th>2</th>\n",
       "      <td>-4.305</td>\n",
       "      <td>Concrete</td>\n",
       "      <td>SimVerb</td>\n",
       "      <td>399</td>\n",
       "      <td>0.027</td>\n",
       "      <td>1.299</td>\n",
       "    </tr>\n",
       "    <tr>\n",
       "      <th>3</th>\n",
       "      <td>-13.153</td>\n",
       "      <td>Mixed</td>\n",
       "      <td>SimVerb</td>\n",
       "      <td>865</td>\n",
       "      <td>0.260</td>\n",
       "      <td>0.756</td>\n",
       "    </tr>\n",
       "  </tbody>\n",
       "</table>\n",
       "</div>"
      ],
      "text/plain": [
       "     coef comparison  dataset     n     r2     se\n",
       "0 -10.740    overall  SimVerb  3487  0.207  0.356\n",
       "1 -10.810   Abstract  SimVerb  2223  0.224  0.428\n",
       "2  -4.305   Concrete  SimVerb   399  0.027  1.299\n",
       "3 -13.153      Mixed  SimVerb   865  0.260  0.756"
      ]
     },
     "execution_count": 21,
     "metadata": {},
     "output_type": "execute_result"
    }
   ],
   "source": [
    "simverb2 = get_stats_for_dataset(df_sim, FORMULA, \"SimVerb\")\n",
    "simverb2"
   ]
  },
  {
   "cell_type": "markdown",
   "metadata": {},
   "source": [
    "## Wordsim"
   ]
  },
  {
   "cell_type": "markdown",
   "metadata": {},
   "source": [
    "### Approach 1: Using median concreteness for dataset"
   ]
  },
  {
   "cell_type": "code",
   "execution_count": 22,
   "metadata": {},
   "outputs": [
    {
     "name": "stdout",
     "output_type": "stream",
     "text": [
      "#Abstract: 101\n",
      "#Concrete: 138\n",
      "#Mixed: 114\n"
     ]
    }
   ],
   "source": [
    "df_wordsim = tag_as_abstract(df_wordsim, wordsim_conc)\n",
    "df_wordsim['Comparison Type'] = df_wordsim.apply(lambda row: get_comparison_type(row), axis=1)\n",
    "print_distribution(df_wordsim)"
   ]
  },
  {
   "cell_type": "code",
   "execution_count": 23,
   "metadata": {},
   "outputs": [
    {
     "data": {
      "text/html": [
       "<div>\n",
       "<style scoped>\n",
       "    .dataframe tbody tr th:only-of-type {\n",
       "        vertical-align: middle;\n",
       "    }\n",
       "\n",
       "    .dataframe tbody tr th {\n",
       "        vertical-align: top;\n",
       "    }\n",
       "\n",
       "    .dataframe thead th {\n",
       "        text-align: right;\n",
       "    }\n",
       "</style>\n",
       "<table border=\"1\" class=\"dataframe\">\n",
       "  <thead>\n",
       "    <tr style=\"text-align: right;\">\n",
       "      <th></th>\n",
       "      <th>coef</th>\n",
       "      <th>comparison</th>\n",
       "      <th>dataset</th>\n",
       "      <th>n</th>\n",
       "      <th>r2</th>\n",
       "      <th>se</th>\n",
       "    </tr>\n",
       "  </thead>\n",
       "  <tbody>\n",
       "    <tr>\n",
       "      <th>0</th>\n",
       "      <td>-7.984</td>\n",
       "      <td>overall</td>\n",
       "      <td>WordSim</td>\n",
       "      <td>353</td>\n",
       "      <td>0.319</td>\n",
       "      <td>0.622</td>\n",
       "    </tr>\n",
       "    <tr>\n",
       "      <th>1</th>\n",
       "      <td>-8.351</td>\n",
       "      <td>Abstract</td>\n",
       "      <td>WordSim</td>\n",
       "      <td>101</td>\n",
       "      <td>0.405</td>\n",
       "      <td>1.018</td>\n",
       "    </tr>\n",
       "    <tr>\n",
       "      <th>2</th>\n",
       "      <td>-7.196</td>\n",
       "      <td>Concrete</td>\n",
       "      <td>WordSim</td>\n",
       "      <td>138</td>\n",
       "      <td>0.267</td>\n",
       "      <td>1.023</td>\n",
       "    </tr>\n",
       "    <tr>\n",
       "      <th>3</th>\n",
       "      <td>-10.189</td>\n",
       "      <td>Mixed</td>\n",
       "      <td>WordSim</td>\n",
       "      <td>114</td>\n",
       "      <td>0.268</td>\n",
       "      <td>1.592</td>\n",
       "    </tr>\n",
       "  </tbody>\n",
       "</table>\n",
       "</div>"
      ],
      "text/plain": [
       "     coef comparison  dataset    n     r2     se\n",
       "0  -7.984    overall  WordSim  353  0.319  0.622\n",
       "1  -8.351   Abstract  WordSim  101  0.405  1.018\n",
       "2  -7.196   Concrete  WordSim  138  0.267  1.023\n",
       "3 -10.189      Mixed  WordSim  114  0.268  1.592"
      ]
     },
     "execution_count": 23,
     "metadata": {},
     "output_type": "execute_result"
    }
   ],
   "source": [
    "wordsim1 = get_stats_for_dataset(df_wordsim, FORMULA, \"WordSim\")\n",
    "wordsim1"
   ]
  },
  {
   "cell_type": "markdown",
   "metadata": {},
   "source": [
    "### Approach 2: Using median concreteness across all four datasets"
   ]
  },
  {
   "cell_type": "code",
   "execution_count": 24,
   "metadata": {},
   "outputs": [
    {
     "name": "stdout",
     "output_type": "stream",
     "text": [
      "#Abstract: 95\n",
      "#Concrete: 150\n",
      "#Mixed: 108\n"
     ]
    }
   ],
   "source": [
    "df_wordsim = tag_as_abstract(df_wordsim, median_conc)\n",
    "df_wordsim['Comparison Type'] = df_wordsim.apply(lambda row: get_comparison_type(row), axis=1)\n",
    "print_distribution(df_wordsim)"
   ]
  },
  {
   "cell_type": "code",
   "execution_count": 25,
   "metadata": {},
   "outputs": [
    {
     "data": {
      "text/html": [
       "<div>\n",
       "<style scoped>\n",
       "    .dataframe tbody tr th:only-of-type {\n",
       "        vertical-align: middle;\n",
       "    }\n",
       "\n",
       "    .dataframe tbody tr th {\n",
       "        vertical-align: top;\n",
       "    }\n",
       "\n",
       "    .dataframe thead th {\n",
       "        text-align: right;\n",
       "    }\n",
       "</style>\n",
       "<table border=\"1\" class=\"dataframe\">\n",
       "  <thead>\n",
       "    <tr style=\"text-align: right;\">\n",
       "      <th></th>\n",
       "      <th>coef</th>\n",
       "      <th>comparison</th>\n",
       "      <th>dataset</th>\n",
       "      <th>n</th>\n",
       "      <th>r2</th>\n",
       "      <th>se</th>\n",
       "    </tr>\n",
       "  </thead>\n",
       "  <tbody>\n",
       "    <tr>\n",
       "      <th>0</th>\n",
       "      <td>-7.984</td>\n",
       "      <td>overall</td>\n",
       "      <td>WordSim</td>\n",
       "      <td>353</td>\n",
       "      <td>0.319</td>\n",
       "      <td>0.622</td>\n",
       "    </tr>\n",
       "    <tr>\n",
       "      <th>1</th>\n",
       "      <td>-8.706</td>\n",
       "      <td>Abstract</td>\n",
       "      <td>WordSim</td>\n",
       "      <td>95</td>\n",
       "      <td>0.448</td>\n",
       "      <td>1.003</td>\n",
       "    </tr>\n",
       "    <tr>\n",
       "      <th>2</th>\n",
       "      <td>-7.001</td>\n",
       "      <td>Concrete</td>\n",
       "      <td>WordSim</td>\n",
       "      <td>150</td>\n",
       "      <td>0.254</td>\n",
       "      <td>0.986</td>\n",
       "    </tr>\n",
       "    <tr>\n",
       "      <th>3</th>\n",
       "      <td>-9.991</td>\n",
       "      <td>Mixed</td>\n",
       "      <td>WordSim</td>\n",
       "      <td>108</td>\n",
       "      <td>0.265</td>\n",
       "      <td>1.618</td>\n",
       "    </tr>\n",
       "  </tbody>\n",
       "</table>\n",
       "</div>"
      ],
      "text/plain": [
       "    coef comparison  dataset    n     r2     se\n",
       "0 -7.984    overall  WordSim  353  0.319  0.622\n",
       "1 -8.706   Abstract  WordSim   95  0.448  1.003\n",
       "2 -7.001   Concrete  WordSim  150  0.254  0.986\n",
       "3 -9.991      Mixed  WordSim  108  0.265  1.618"
      ]
     },
     "execution_count": 25,
     "metadata": {},
     "output_type": "execute_result"
    }
   ],
   "source": [
    "wordsim2 = get_stats_for_dataset(df_wordsim, FORMULA, \"WordSim\")\n",
    "wordsim2"
   ]
  },
  {
   "cell_type": "markdown",
   "metadata": {},
   "source": [
    "## SimLex"
   ]
  },
  {
   "cell_type": "markdown",
   "metadata": {},
   "source": [
    "### Approach 1: Using median concreteness for dataset"
   ]
  },
  {
   "cell_type": "code",
   "execution_count": 26,
   "metadata": {},
   "outputs": [
    {
     "name": "stdout",
     "output_type": "stream",
     "text": [
      "#Abstract: 433\n",
      "#Concrete: 434\n",
      "#Mixed: 132\n"
     ]
    }
   ],
   "source": [
    "df_simlex = tag_as_abstract(df_simlex, simlex_conc)\n",
    "df_simlex['Comparison Type'] = df_simlex.apply(lambda row: get_comparison_type(row), axis=1)\n",
    "print_distribution(df_simlex)"
   ]
  },
  {
   "cell_type": "code",
   "execution_count": 27,
   "metadata": {},
   "outputs": [
    {
     "data": {
      "text/html": [
       "<div>\n",
       "<style scoped>\n",
       "    .dataframe tbody tr th:only-of-type {\n",
       "        vertical-align: middle;\n",
       "    }\n",
       "\n",
       "    .dataframe tbody tr th {\n",
       "        vertical-align: top;\n",
       "    }\n",
       "\n",
       "    .dataframe thead th {\n",
       "        text-align: right;\n",
       "    }\n",
       "</style>\n",
       "<table border=\"1\" class=\"dataframe\">\n",
       "  <thead>\n",
       "    <tr style=\"text-align: right;\">\n",
       "      <th></th>\n",
       "      <th>coef</th>\n",
       "      <th>comparison</th>\n",
       "      <th>dataset</th>\n",
       "      <th>n</th>\n",
       "      <th>r2</th>\n",
       "      <th>se</th>\n",
       "    </tr>\n",
       "  </thead>\n",
       "  <tbody>\n",
       "    <tr>\n",
       "      <th>0</th>\n",
       "      <td>-7.915</td>\n",
       "      <td>overall</td>\n",
       "      <td>SimLex</td>\n",
       "      <td>999</td>\n",
       "      <td>0.200</td>\n",
       "      <td>0.502</td>\n",
       "    </tr>\n",
       "    <tr>\n",
       "      <th>1</th>\n",
       "      <td>-9.759</td>\n",
       "      <td>Abstract</td>\n",
       "      <td>SimLex</td>\n",
       "      <td>433</td>\n",
       "      <td>0.215</td>\n",
       "      <td>0.899</td>\n",
       "    </tr>\n",
       "    <tr>\n",
       "      <th>2</th>\n",
       "      <td>-6.714</td>\n",
       "      <td>Concrete</td>\n",
       "      <td>SimLex</td>\n",
       "      <td>434</td>\n",
       "      <td>0.191</td>\n",
       "      <td>0.664</td>\n",
       "    </tr>\n",
       "    <tr>\n",
       "      <th>3</th>\n",
       "      <td>-8.911</td>\n",
       "      <td>Mixed</td>\n",
       "      <td>SimLex</td>\n",
       "      <td>132</td>\n",
       "      <td>0.276</td>\n",
       "      <td>1.265</td>\n",
       "    </tr>\n",
       "  </tbody>\n",
       "</table>\n",
       "</div>"
      ],
      "text/plain": [
       "    coef comparison dataset    n     r2     se\n",
       "0 -7.915    overall  SimLex  999  0.200  0.502\n",
       "1 -9.759   Abstract  SimLex  433  0.215  0.899\n",
       "2 -6.714   Concrete  SimLex  434  0.191  0.664\n",
       "3 -8.911      Mixed  SimLex  132  0.276  1.265"
      ]
     },
     "execution_count": 27,
     "metadata": {},
     "output_type": "execute_result"
    }
   ],
   "source": [
    "simlex1 = get_stats_for_dataset(df_simlex, FORMULA, \"SimLex\")\n",
    "simlex1"
   ]
  },
  {
   "cell_type": "markdown",
   "metadata": {},
   "source": [
    "### Approach 2: Using median concreteness across all four datasets"
   ]
  },
  {
   "cell_type": "code",
   "execution_count": 28,
   "metadata": {},
   "outputs": [
    {
     "name": "stdout",
     "output_type": "stream",
     "text": [
      "#Abstract: 451\n",
      "#Concrete: 427\n",
      "#Mixed: 121\n"
     ]
    }
   ],
   "source": [
    "df_simlex = tag_as_abstract(df_simlex, median_conc)\n",
    "df_simlex['Comparison Type'] = df_simlex.apply(lambda row: get_comparison_type(row), axis=1)\n",
    "print_distribution(df_simlex)"
   ]
  },
  {
   "cell_type": "code",
   "execution_count": 29,
   "metadata": {},
   "outputs": [
    {
     "data": {
      "text/html": [
       "<div>\n",
       "<style scoped>\n",
       "    .dataframe tbody tr th:only-of-type {\n",
       "        vertical-align: middle;\n",
       "    }\n",
       "\n",
       "    .dataframe tbody tr th {\n",
       "        vertical-align: top;\n",
       "    }\n",
       "\n",
       "    .dataframe thead th {\n",
       "        text-align: right;\n",
       "    }\n",
       "</style>\n",
       "<table border=\"1\" class=\"dataframe\">\n",
       "  <thead>\n",
       "    <tr style=\"text-align: right;\">\n",
       "      <th></th>\n",
       "      <th>coef</th>\n",
       "      <th>comparison</th>\n",
       "      <th>dataset</th>\n",
       "      <th>n</th>\n",
       "      <th>r2</th>\n",
       "      <th>se</th>\n",
       "    </tr>\n",
       "  </thead>\n",
       "  <tbody>\n",
       "    <tr>\n",
       "      <th>0</th>\n",
       "      <td>-7.915</td>\n",
       "      <td>overall</td>\n",
       "      <td>SimLex</td>\n",
       "      <td>999</td>\n",
       "      <td>0.200</td>\n",
       "      <td>0.502</td>\n",
       "    </tr>\n",
       "    <tr>\n",
       "      <th>1</th>\n",
       "      <td>-9.495</td>\n",
       "      <td>Abstract</td>\n",
       "      <td>SimLex</td>\n",
       "      <td>451</td>\n",
       "      <td>0.208</td>\n",
       "      <td>0.875</td>\n",
       "    </tr>\n",
       "    <tr>\n",
       "      <th>2</th>\n",
       "      <td>-6.692</td>\n",
       "      <td>Concrete</td>\n",
       "      <td>SimLex</td>\n",
       "      <td>427</td>\n",
       "      <td>0.188</td>\n",
       "      <td>0.676</td>\n",
       "    </tr>\n",
       "    <tr>\n",
       "      <th>3</th>\n",
       "      <td>-9.133</td>\n",
       "      <td>Mixed</td>\n",
       "      <td>SimLex</td>\n",
       "      <td>121</td>\n",
       "      <td>0.291</td>\n",
       "      <td>1.306</td>\n",
       "    </tr>\n",
       "  </tbody>\n",
       "</table>\n",
       "</div>"
      ],
      "text/plain": [
       "    coef comparison dataset    n     r2     se\n",
       "0 -7.915    overall  SimLex  999  0.200  0.502\n",
       "1 -9.495   Abstract  SimLex  451  0.208  0.875\n",
       "2 -6.692   Concrete  SimLex  427  0.188  0.676\n",
       "3 -9.133      Mixed  SimLex  121  0.291  1.306"
      ]
     },
     "execution_count": 29,
     "metadata": {},
     "output_type": "execute_result"
    }
   ],
   "source": [
    "simlex2 = get_stats_for_dataset(df_simlex, FORMULA, \"SimLex\")\n",
    "simlex2"
   ]
  },
  {
   "cell_type": "code",
   "execution_count": null,
   "metadata": {},
   "outputs": [],
   "source": []
  },
  {
   "cell_type": "markdown",
   "metadata": {},
   "source": [
    "## MTurk"
   ]
  },
  {
   "cell_type": "markdown",
   "metadata": {},
   "source": [
    "### Approach 1: Using median concreteness for dataset"
   ]
  },
  {
   "cell_type": "code",
   "execution_count": 30,
   "metadata": {},
   "outputs": [
    {
     "name": "stdout",
     "output_type": "stream",
     "text": [
      "#Abstract: 244\n",
      "#Concrete: 246\n",
      "#Mixed: 264\n"
     ]
    }
   ],
   "source": [
    "df_mturk = tag_as_abstract(df_mturk, mturk_conc)\n",
    "df_mturk['Comparison Type'] = df_mturk.apply(lambda row: get_comparison_type(row), axis=1)\n",
    "print_distribution(df_mturk)"
   ]
  },
  {
   "cell_type": "code",
   "execution_count": 31,
   "metadata": {},
   "outputs": [
    {
     "data": {
      "text/html": [
       "<div>\n",
       "<style scoped>\n",
       "    .dataframe tbody tr th:only-of-type {\n",
       "        vertical-align: middle;\n",
       "    }\n",
       "\n",
       "    .dataframe tbody tr th {\n",
       "        vertical-align: top;\n",
       "    }\n",
       "\n",
       "    .dataframe thead th {\n",
       "        text-align: right;\n",
       "    }\n",
       "</style>\n",
       "<table border=\"1\" class=\"dataframe\">\n",
       "  <thead>\n",
       "    <tr style=\"text-align: right;\">\n",
       "      <th></th>\n",
       "      <th>coef</th>\n",
       "      <th>comparison</th>\n",
       "      <th>dataset</th>\n",
       "      <th>n</th>\n",
       "      <th>r2</th>\n",
       "      <th>se</th>\n",
       "    </tr>\n",
       "  </thead>\n",
       "  <tbody>\n",
       "    <tr>\n",
       "      <th>0</th>\n",
       "      <td>-4.582</td>\n",
       "      <td>overall</td>\n",
       "      <td>MTurk</td>\n",
       "      <td>754</td>\n",
       "      <td>0.375</td>\n",
       "      <td>0.216</td>\n",
       "    </tr>\n",
       "    <tr>\n",
       "      <th>1</th>\n",
       "      <td>-4.861</td>\n",
       "      <td>Abstract</td>\n",
       "      <td>MTurk</td>\n",
       "      <td>244</td>\n",
       "      <td>0.424</td>\n",
       "      <td>0.364</td>\n",
       "    </tr>\n",
       "    <tr>\n",
       "      <th>2</th>\n",
       "      <td>-4.487</td>\n",
       "      <td>Concrete</td>\n",
       "      <td>MTurk</td>\n",
       "      <td>246</td>\n",
       "      <td>0.344</td>\n",
       "      <td>0.396</td>\n",
       "    </tr>\n",
       "    <tr>\n",
       "      <th>3</th>\n",
       "      <td>-4.789</td>\n",
       "      <td>Mixed</td>\n",
       "      <td>MTurk</td>\n",
       "      <td>264</td>\n",
       "      <td>0.361</td>\n",
       "      <td>0.394</td>\n",
       "    </tr>\n",
       "  </tbody>\n",
       "</table>\n",
       "</div>"
      ],
      "text/plain": [
       "    coef comparison dataset    n     r2     se\n",
       "0 -4.582    overall   MTurk  754  0.375  0.216\n",
       "1 -4.861   Abstract   MTurk  244  0.424  0.364\n",
       "2 -4.487   Concrete   MTurk  246  0.344  0.396\n",
       "3 -4.789      Mixed   MTurk  264  0.361  0.394"
      ]
     },
     "execution_count": 31,
     "metadata": {},
     "output_type": "execute_result"
    }
   ],
   "source": [
    "mturk1 = get_stats_for_dataset(df_mturk, FORMULA, \"MTurk\")\n",
    "mturk1"
   ]
  },
  {
   "cell_type": "markdown",
   "metadata": {},
   "source": [
    "### Approach 2: Using median concreteness across all four datasets"
   ]
  },
  {
   "cell_type": "code",
   "execution_count": 32,
   "metadata": {},
   "outputs": [
    {
     "name": "stdout",
     "output_type": "stream",
     "text": [
      "#Abstract: 195\n",
      "#Concrete: 322\n",
      "#Mixed: 237\n"
     ]
    }
   ],
   "source": [
    "df_mturk = tag_as_abstract(df_mturk, median_conc)\n",
    "df_mturk['Comparison Type'] = df_mturk.apply(lambda row: get_comparison_type(row), axis=1)\n",
    "print_distribution(df_mturk)"
   ]
  },
  {
   "cell_type": "code",
   "execution_count": 33,
   "metadata": {},
   "outputs": [
    {
     "data": {
      "text/html": [
       "<div>\n",
       "<style scoped>\n",
       "    .dataframe tbody tr th:only-of-type {\n",
       "        vertical-align: middle;\n",
       "    }\n",
       "\n",
       "    .dataframe tbody tr th {\n",
       "        vertical-align: top;\n",
       "    }\n",
       "\n",
       "    .dataframe thead th {\n",
       "        text-align: right;\n",
       "    }\n",
       "</style>\n",
       "<table border=\"1\" class=\"dataframe\">\n",
       "  <thead>\n",
       "    <tr style=\"text-align: right;\">\n",
       "      <th></th>\n",
       "      <th>coef</th>\n",
       "      <th>comparison</th>\n",
       "      <th>dataset</th>\n",
       "      <th>n</th>\n",
       "      <th>r2</th>\n",
       "      <th>se</th>\n",
       "    </tr>\n",
       "  </thead>\n",
       "  <tbody>\n",
       "    <tr>\n",
       "      <th>0</th>\n",
       "      <td>-4.582</td>\n",
       "      <td>overall</td>\n",
       "      <td>MTurk</td>\n",
       "      <td>754</td>\n",
       "      <td>0.375</td>\n",
       "      <td>0.216</td>\n",
       "    </tr>\n",
       "    <tr>\n",
       "      <th>1</th>\n",
       "      <td>-4.588</td>\n",
       "      <td>Abstract</td>\n",
       "      <td>MTurk</td>\n",
       "      <td>195</td>\n",
       "      <td>0.413</td>\n",
       "      <td>0.394</td>\n",
       "    </tr>\n",
       "    <tr>\n",
       "      <th>2</th>\n",
       "      <td>-4.340</td>\n",
       "      <td>Concrete</td>\n",
       "      <td>MTurk</td>\n",
       "      <td>322</td>\n",
       "      <td>0.337</td>\n",
       "      <td>0.340</td>\n",
       "    </tr>\n",
       "    <tr>\n",
       "      <th>3</th>\n",
       "      <td>-5.224</td>\n",
       "      <td>Mixed</td>\n",
       "      <td>MTurk</td>\n",
       "      <td>237</td>\n",
       "      <td>0.364</td>\n",
       "      <td>0.451</td>\n",
       "    </tr>\n",
       "  </tbody>\n",
       "</table>\n",
       "</div>"
      ],
      "text/plain": [
       "    coef comparison dataset    n     r2     se\n",
       "0 -4.582    overall   MTurk  754  0.375  0.216\n",
       "1 -4.588   Abstract   MTurk  195  0.413  0.394\n",
       "2 -4.340   Concrete   MTurk  322  0.337  0.340\n",
       "3 -5.224      Mixed   MTurk  237  0.364  0.451"
      ]
     },
     "execution_count": 33,
     "metadata": {},
     "output_type": "execute_result"
    }
   ],
   "source": [
    "mturk2 = get_stats_for_dataset(df_mturk, FORMULA, \"MTurk\")\n",
    "mturk2"
   ]
  },
  {
   "cell_type": "code",
   "execution_count": null,
   "metadata": {},
   "outputs": [],
   "source": []
  },
  {
   "cell_type": "markdown",
   "metadata": {},
   "source": [
    "## Visualizations"
   ]
  },
  {
   "cell_type": "code",
   "execution_count": 34,
   "metadata": {},
   "outputs": [],
   "source": [
    "def grouped_barplot(df, cat, subcat, val, err, x_label, y_label, title, fig_path):\n",
    "    \"\"\"Just for making barplots with error bars.\"\"\"\n",
    "    u = df[cat].unique()\n",
    "    x = np.arange(len(u))\n",
    "    subx = df[subcat].unique()\n",
    "    offsets = (np.arange(len(subx))-np.arange(len(subx)).mean())/(len(subx)+1.)\n",
    "    width= np.diff(offsets).mean()\n",
    "    for i,gr in enumerate(subx):\n",
    "        dfg = df[df[subcat] == gr]\n",
    "        plt.bar(x+offsets[i], dfg[val].values, width=width, \n",
    "                label=\"{}\".format(gr), yerr=dfg[err].values)\n",
    "    plt.xlabel(cat)\n",
    "    plt.ylabel(val)\n",
    "    plt.xticks(x, u)\n",
    "    plt.legend()\n",
    "    plt.xlabel(x_label)\n",
    "    plt.ylabel(y_label)\n",
    "    plt.title(title)\n",
    "    plt.savefig(fig_path, dpi=300)\n",
    "    plt.show()\n",
    "    "
   ]
  },
  {
   "cell_type": "markdown",
   "metadata": {},
   "source": [
    "### Approach 1"
   ]
  },
  {
   "cell_type": "code",
   "execution_count": 35,
   "metadata": {},
   "outputs": [],
   "source": [
    "df_approach1 = pd.concat([simverb1, wordsim1, simlex1, mturk1])\n",
    "df_just_abs_conc = df_approach1[df_approach1['comparison'].isin(['Abstract', 'Concrete'])]"
   ]
  },
  {
   "cell_type": "code",
   "execution_count": 36,
   "metadata": {},
   "outputs": [
    {
     "data": {
      "image/png": "[encoded data removed]",
      "text/plain": [
       "<Figure size 432x288 with 1 Axes>"
      ]
     },
     "metadata": {
      "image/png": {
       "height": 277,
       "width": 392
      },
      "needs_background": "light"
     },
     "output_type": "display_data"
    }
   ],
   "source": [
    "grouped_barplot(df_just_abs_conc, 'dataset', 'comparison', 'coef', 'se',\n",
    "               x_label = 'Dataset',\n",
    "               y_label = \"\\u03B2(cosine distance)\",\n",
    "               title = \"\\u03B2(cosine distance) across datasets (Split 1)\",\n",
    "               fig_path = \"Figures/overall_fits/all_models_approach1_5b.png\")"
   ]
  },
  {
   "cell_type": "code",
   "execution_count": 37,
   "metadata": {},
   "outputs": [
    {
     "data": {
      "image/png": "[encoded data removed]",
      "text/plain": [
       "<Figure size 432x288 with 1 Axes>"
      ]
     },
     "metadata": {
      "image/png": {
       "height": 277,
       "width": 395
      },
      "needs_background": "light"
     },
     "output_type": "display_data"
    }
   ],
   "source": [
    "sns.barplot(data = df_just_abs_conc,\n",
    "             x = \"dataset\",\n",
    "             y = \"r2\",\n",
    "             hue = \"comparison\")\n",
    "plt.xlabel(\"Dataset\")\n",
    "plt.ylabel(\"R$^2$\")\n",
    "plt.title(\"Model fit across datasets (Split 1)\")\n",
    "plt.savefig(\"Figures/overall_fits/r2_approach1_5b.png\", dpi=300)"
   ]
  },
  {
   "cell_type": "markdown",
   "metadata": {},
   "source": [
    "### Approach 2"
   ]
  },
  {
   "cell_type": "code",
   "execution_count": 38,
   "metadata": {},
   "outputs": [],
   "source": [
    "df_approach2 = pd.concat([simverb2, wordsim2, simlex2, mturk2])\n",
    "df_just_abs_conc = df_approach2[df_approach2['comparison'].isin(['Abstract', 'Concrete'])]"
   ]
  },
  {
   "cell_type": "code",
   "execution_count": 39,
   "metadata": {},
   "outputs": [
    {
     "data": {
      "image/png": "[encoded data removed]",
      "text/plain": [
       "<Figure size 432x288 with 1 Axes>"
      ]
     },
     "metadata": {
      "image/png": {
       "height": 277,
       "width": 392
      },
      "needs_background": "light"
     },
     "output_type": "display_data"
    }
   ],
   "source": [
    "grouped_barplot(df_just_abs_conc, 'dataset', 'comparison', 'coef', 'se',\n",
    "               x_label = 'Dataset',\n",
    "               y_label = \"\\u03B2(cosine distance)\",\n",
    "               title = \"\\u03B2(cosine distance) across datasets (Split 2)\",\n",
    "               fig_path = \"Figures/overall_fits/all_models_approach2_5b.png\")"
   ]
  },
  {
   "cell_type": "code",
   "execution_count": 40,
   "metadata": {},
   "outputs": [
    {
     "data": {
      "image/png": "[encoded data removed]",
      "text/plain": [
       "<Figure size 432x288 with 1 Axes>"
      ]
     },
     "metadata": {
      "image/png": {
       "height": 277,
       "width": 388
      },
      "needs_background": "light"
     },
     "output_type": "display_data"
    }
   ],
   "source": [
    "sns.barplot(data = df_just_abs_conc,\n",
    "             x = \"dataset\",\n",
    "             y = \"r2\",\n",
    "             hue = \"comparison\")\n",
    "plt.xlabel(\"Dataset\")\n",
    "plt.ylabel(\"R$^2$\")\n",
    "plt.title(\"Model fit across datasets (Split 2)\")\n",
    "plt.savefig(\"Figures/overall_fits/r2_approach2_5b.png\", dpi=300)"
   ]
  },
  {
   "cell_type": "markdown",
   "metadata": {},
   "source": [
    "### Measures of effect size\n",
    "\n",
    "We can also quantify the average effect size as the **difference** in a given test statistic across Abstract and Concrete subsets."
   ]
  },
  {
   "cell_type": "code",
   "execution_count": 61,
   "metadata": {},
   "outputs": [],
   "source": [
    "abstract_approach1 = df_approach1[df_approach1['comparison']==\"Abstract\"]\n",
    "concrete_approach1 = df_approach1[df_approach1['comparison']==\"Concrete\"]\n",
    "coef_diff_approach1 = abstract_approach1['coef'].values - concrete_approach1['coef'].values\n",
    "r2_diff_approach1 = abstract_approach1['r2'].values - concrete_approach1['r2'].values"
   ]
  },
  {
   "cell_type": "code",
   "execution_count": 64,
   "metadata": {},
   "outputs": [],
   "source": [
    "abstract_approach2 = df_approach2[df_approach2['comparison']==\"Abstract\"]\n",
    "concrete_approach2 = df_approach2[df_approach2['comparison']==\"Concrete\"]\n",
    "coef_diff_approach2 = abstract_approach2['coef'].values - concrete_approach2['coef'].values\n",
    "r2_diff_approach2 = abstract_approach2['r2'].values - concrete_approach2['r2'].values"
   ]
  },
  {
   "cell_type": "markdown",
   "metadata": {},
   "source": [
    "### Average difference for a given dataset across splits"
   ]
  },
  {
   "cell_type": "code",
   "execution_count": 72,
   "metadata": {},
   "outputs": [
    {
     "data": {
      "text/plain": [
       "array([-3.7495, -1.43  , -2.924 , -0.311 ])"
      ]
     },
     "execution_count": 72,
     "metadata": {},
     "output_type": "execute_result"
    }
   ],
   "source": [
    "(coef_diff_approach1 + coef_diff_approach2) / 2"
   ]
  },
  {
   "cell_type": "code",
   "execution_count": 76,
   "metadata": {},
   "outputs": [
    {
     "data": {
      "text/plain": [
       "array([0.1405, 0.166 , 0.022 , 0.078 ])"
      ]
     },
     "execution_count": 76,
     "metadata": {},
     "output_type": "execute_result"
    }
   ],
   "source": [
    "(r2_diff_approach1 + r2_diff_approach2) / 2"
   ]
  },
  {
   "cell_type": "markdown",
   "metadata": {},
   "source": [
    "### Average effect size across datasets for a given split"
   ]
  },
  {
   "cell_type": "code",
   "execution_count": 92,
   "metadata": {},
   "outputs": [
    {
     "name": "stdout",
     "output_type": "stream",
     "text": [
      "-1.39\n",
      "SE: 0.5\n"
     ]
    }
   ],
   "source": [
    "print(round(coef_diff_approach1.mean(), 2))\n",
    "print(\"SE: {x}\".format(x=round(coef_diff_approach1.std()/2, 2)))"
   ]
  },
  {
   "cell_type": "code",
   "execution_count": 93,
   "metadata": {},
   "outputs": [
    {
     "name": "stdout",
     "output_type": "stream",
     "text": [
      "-2.82\n",
      "SE: 1.16\n"
     ]
    }
   ],
   "source": [
    "print(round(coef_diff_approach2.mean(), 2))\n",
    "print(\"SE: {x}\".format(x=round(coef_diff_approach2.std()/2, 2)))"
   ]
  },
  {
   "cell_type": "code",
   "execution_count": 94,
   "metadata": {},
   "outputs": [
    {
     "name": "stdout",
     "output_type": "stream",
     "text": [
      "0.08\n",
      "SE: 0.02\n"
     ]
    }
   ],
   "source": [
    "print(round(r2_diff_approach1.mean(), 2))\n",
    "print(\"SE: {x}\".format(x=round(r2_diff_approach1.std()/2, 2)))"
   ]
  },
  {
   "cell_type": "code",
   "execution_count": 95,
   "metadata": {},
   "outputs": [
    {
     "name": "stdout",
     "output_type": "stream",
     "text": [
      "0.12\n",
      "SE: 0.04\n"
     ]
    }
   ],
   "source": [
    "print(round(r2_diff_approach2.mean(), 2))\n",
    "print(\"SE: {x}\".format(x=round(r2_diff_approach2.std()/2, 2)))"
   ]
  },
  {
   "cell_type": "markdown",
   "metadata": {},
   "source": [
    "## Supplementary materials"
   ]
  },
  {
   "cell_type": "markdown",
   "metadata": {},
   "source": [
    "### Overall results"
   ]
  },
  {
   "cell_type": "code",
   "execution_count": 68,
   "metadata": {},
   "outputs": [
    {
     "data": {
      "text/html": [
       "<div>\n",
       "<style scoped>\n",
       "    .dataframe tbody tr th:only-of-type {\n",
       "        vertical-align: middle;\n",
       "    }\n",
       "\n",
       "    .dataframe tbody tr th {\n",
       "        vertical-align: top;\n",
       "    }\n",
       "\n",
       "    .dataframe thead th {\n",
       "        text-align: right;\n",
       "    }\n",
       "</style>\n",
       "<table border=\"1\" class=\"dataframe\">\n",
       "  <thead>\n",
       "    <tr style=\"text-align: right;\">\n",
       "      <th></th>\n",
       "      <th>coef</th>\n",
       "      <th>comparison</th>\n",
       "      <th>dataset</th>\n",
       "      <th>n</th>\n",
       "      <th>r2</th>\n",
       "      <th>se</th>\n",
       "    </tr>\n",
       "  </thead>\n",
       "  <tbody>\n",
       "    <tr>\n",
       "      <th>1</th>\n",
       "      <td>-10.068</td>\n",
       "      <td>Abstract</td>\n",
       "      <td>SimVerb</td>\n",
       "      <td>1164</td>\n",
       "      <td>0.213</td>\n",
       "      <td>0.567</td>\n",
       "    </tr>\n",
       "    <tr>\n",
       "      <th>2</th>\n",
       "      <td>-9.074</td>\n",
       "      <td>Concrete</td>\n",
       "      <td>SimVerb</td>\n",
       "      <td>1179</td>\n",
       "      <td>0.129</td>\n",
       "      <td>0.686</td>\n",
       "    </tr>\n",
       "    <tr>\n",
       "      <th>1</th>\n",
       "      <td>-8.351</td>\n",
       "      <td>Abstract</td>\n",
       "      <td>WordSim</td>\n",
       "      <td>101</td>\n",
       "      <td>0.405</td>\n",
       "      <td>1.018</td>\n",
       "    </tr>\n",
       "    <tr>\n",
       "      <th>2</th>\n",
       "      <td>-7.196</td>\n",
       "      <td>Concrete</td>\n",
       "      <td>WordSim</td>\n",
       "      <td>138</td>\n",
       "      <td>0.267</td>\n",
       "      <td>1.023</td>\n",
       "    </tr>\n",
       "    <tr>\n",
       "      <th>1</th>\n",
       "      <td>-9.759</td>\n",
       "      <td>Abstract</td>\n",
       "      <td>SimLex</td>\n",
       "      <td>433</td>\n",
       "      <td>0.215</td>\n",
       "      <td>0.899</td>\n",
       "    </tr>\n",
       "    <tr>\n",
       "      <th>2</th>\n",
       "      <td>-6.714</td>\n",
       "      <td>Concrete</td>\n",
       "      <td>SimLex</td>\n",
       "      <td>434</td>\n",
       "      <td>0.191</td>\n",
       "      <td>0.664</td>\n",
       "    </tr>\n",
       "    <tr>\n",
       "      <th>1</th>\n",
       "      <td>-4.861</td>\n",
       "      <td>Abstract</td>\n",
       "      <td>MTurk</td>\n",
       "      <td>244</td>\n",
       "      <td>0.424</td>\n",
       "      <td>0.364</td>\n",
       "    </tr>\n",
       "    <tr>\n",
       "      <th>2</th>\n",
       "      <td>-4.487</td>\n",
       "      <td>Concrete</td>\n",
       "      <td>MTurk</td>\n",
       "      <td>246</td>\n",
       "      <td>0.344</td>\n",
       "      <td>0.396</td>\n",
       "    </tr>\n",
       "  </tbody>\n",
       "</table>\n",
       "</div>"
      ],
      "text/plain": [
       "     coef comparison  dataset     n     r2     se\n",
       "1 -10.068   Abstract  SimVerb  1164  0.213  0.567\n",
       "2  -9.074   Concrete  SimVerb  1179  0.129  0.686\n",
       "1  -8.351   Abstract  WordSim   101  0.405  1.018\n",
       "2  -7.196   Concrete  WordSim   138  0.267  1.023\n",
       "1  -9.759   Abstract   SimLex   433  0.215  0.899\n",
       "2  -6.714   Concrete   SimLex   434  0.191  0.664\n",
       "1  -4.861   Abstract    MTurk   244  0.424  0.364\n",
       "2  -4.487   Concrete    MTurk   246  0.344  0.396"
      ]
     },
     "execution_count": 68,
     "metadata": {},
     "output_type": "execute_result"
    }
   ],
   "source": [
    "df_approach1[df_approach1['comparison'].isin(['Abstract', 'Concrete'])]"
   ]
  },
  {
   "cell_type": "code",
   "execution_count": 72,
   "metadata": {},
   "outputs": [
    {
     "data": {
      "text/html": [
       "<div>\n",
       "<style scoped>\n",
       "    .dataframe tbody tr th:only-of-type {\n",
       "        vertical-align: middle;\n",
       "    }\n",
       "\n",
       "    .dataframe tbody tr th {\n",
       "        vertical-align: top;\n",
       "    }\n",
       "\n",
       "    .dataframe thead th {\n",
       "        text-align: right;\n",
       "    }\n",
       "</style>\n",
       "<table border=\"1\" class=\"dataframe\">\n",
       "  <thead>\n",
       "    <tr style=\"text-align: right;\">\n",
       "      <th></th>\n",
       "      <th>coef</th>\n",
       "      <th>comparison</th>\n",
       "      <th>dataset</th>\n",
       "      <th>n</th>\n",
       "      <th>r2</th>\n",
       "      <th>se</th>\n",
       "    </tr>\n",
       "  </thead>\n",
       "  <tbody>\n",
       "    <tr>\n",
       "      <th>1</th>\n",
       "      <td>-10.810</td>\n",
       "      <td>Abstract</td>\n",
       "      <td>SimVerb</td>\n",
       "      <td>2223</td>\n",
       "      <td>0.224</td>\n",
       "      <td>0.428</td>\n",
       "    </tr>\n",
       "    <tr>\n",
       "      <th>2</th>\n",
       "      <td>-4.305</td>\n",
       "      <td>Concrete</td>\n",
       "      <td>SimVerb</td>\n",
       "      <td>399</td>\n",
       "      <td>0.027</td>\n",
       "      <td>1.299</td>\n",
       "    </tr>\n",
       "    <tr>\n",
       "      <th>1</th>\n",
       "      <td>-8.706</td>\n",
       "      <td>Abstract</td>\n",
       "      <td>WordSim</td>\n",
       "      <td>95</td>\n",
       "      <td>0.448</td>\n",
       "      <td>1.003</td>\n",
       "    </tr>\n",
       "    <tr>\n",
       "      <th>2</th>\n",
       "      <td>-7.001</td>\n",
       "      <td>Concrete</td>\n",
       "      <td>WordSim</td>\n",
       "      <td>150</td>\n",
       "      <td>0.254</td>\n",
       "      <td>0.986</td>\n",
       "    </tr>\n",
       "    <tr>\n",
       "      <th>1</th>\n",
       "      <td>-9.495</td>\n",
       "      <td>Abstract</td>\n",
       "      <td>SimLex</td>\n",
       "      <td>451</td>\n",
       "      <td>0.208</td>\n",
       "      <td>0.875</td>\n",
       "    </tr>\n",
       "    <tr>\n",
       "      <th>2</th>\n",
       "      <td>-6.692</td>\n",
       "      <td>Concrete</td>\n",
       "      <td>SimLex</td>\n",
       "      <td>427</td>\n",
       "      <td>0.188</td>\n",
       "      <td>0.676</td>\n",
       "    </tr>\n",
       "    <tr>\n",
       "      <th>1</th>\n",
       "      <td>-4.588</td>\n",
       "      <td>Abstract</td>\n",
       "      <td>MTurk</td>\n",
       "      <td>195</td>\n",
       "      <td>0.413</td>\n",
       "      <td>0.394</td>\n",
       "    </tr>\n",
       "    <tr>\n",
       "      <th>2</th>\n",
       "      <td>-4.340</td>\n",
       "      <td>Concrete</td>\n",
       "      <td>MTurk</td>\n",
       "      <td>322</td>\n",
       "      <td>0.337</td>\n",
       "      <td>0.340</td>\n",
       "    </tr>\n",
       "  </tbody>\n",
       "</table>\n",
       "</div>"
      ],
      "text/plain": [
       "     coef comparison  dataset     n     r2     se\n",
       "1 -10.810   Abstract  SimVerb  2223  0.224  0.428\n",
       "2  -4.305   Concrete  SimVerb   399  0.027  1.299\n",
       "1  -8.706   Abstract  WordSim    95  0.448  1.003\n",
       "2  -7.001   Concrete  WordSim   150  0.254  0.986\n",
       "1  -9.495   Abstract   SimLex   451  0.208  0.875\n",
       "2  -6.692   Concrete   SimLex   427  0.188  0.676\n",
       "1  -4.588   Abstract    MTurk   195  0.413  0.394\n",
       "2  -4.340   Concrete    MTurk   322  0.337  0.340"
      ]
     },
     "execution_count": 72,
     "metadata": {},
     "output_type": "execute_result"
    }
   ],
   "source": [
    "df_approach2[df_approach2['comparison'].isin(['Abstract', 'Concrete'])]"
   ]
  },
  {
   "cell_type": "markdown",
   "metadata": {},
   "source": [
    "### Results for Mixed and overall pairs"
   ]
  },
  {
   "cell_type": "code",
   "execution_count": 76,
   "metadata": {},
   "outputs": [
    {
     "data": {
      "text/html": [
       "<div>\n",
       "<style scoped>\n",
       "    .dataframe tbody tr th:only-of-type {\n",
       "        vertical-align: middle;\n",
       "    }\n",
       "\n",
       "    .dataframe tbody tr th {\n",
       "        vertical-align: top;\n",
       "    }\n",
       "\n",
       "    .dataframe thead th {\n",
       "        text-align: right;\n",
       "    }\n",
       "</style>\n",
       "<table border=\"1\" class=\"dataframe\">\n",
       "  <thead>\n",
       "    <tr style=\"text-align: right;\">\n",
       "      <th></th>\n",
       "      <th>coef</th>\n",
       "      <th>comparison</th>\n",
       "      <th>dataset</th>\n",
       "      <th>n</th>\n",
       "      <th>r2</th>\n",
       "      <th>se</th>\n",
       "    </tr>\n",
       "  </thead>\n",
       "  <tbody>\n",
       "    <tr>\n",
       "      <th>0</th>\n",
       "      <td>-10.740</td>\n",
       "      <td>overall</td>\n",
       "      <td>SimVerb</td>\n",
       "      <td>3487</td>\n",
       "      <td>0.207</td>\n",
       "      <td>0.356</td>\n",
       "    </tr>\n",
       "    <tr>\n",
       "      <th>3</th>\n",
       "      <td>-13.005</td>\n",
       "      <td>Mixed</td>\n",
       "      <td>SimVerb</td>\n",
       "      <td>1144</td>\n",
       "      <td>0.263</td>\n",
       "      <td>0.644</td>\n",
       "    </tr>\n",
       "    <tr>\n",
       "      <th>0</th>\n",
       "      <td>-7.984</td>\n",
       "      <td>overall</td>\n",
       "      <td>WordSim</td>\n",
       "      <td>353</td>\n",
       "      <td>0.319</td>\n",
       "      <td>0.622</td>\n",
       "    </tr>\n",
       "    <tr>\n",
       "      <th>3</th>\n",
       "      <td>-10.189</td>\n",
       "      <td>Mixed</td>\n",
       "      <td>WordSim</td>\n",
       "      <td>114</td>\n",
       "      <td>0.268</td>\n",
       "      <td>1.592</td>\n",
       "    </tr>\n",
       "    <tr>\n",
       "      <th>0</th>\n",
       "      <td>-7.915</td>\n",
       "      <td>overall</td>\n",
       "      <td>SimLex</td>\n",
       "      <td>999</td>\n",
       "      <td>0.200</td>\n",
       "      <td>0.502</td>\n",
       "    </tr>\n",
       "    <tr>\n",
       "      <th>3</th>\n",
       "      <td>-8.911</td>\n",
       "      <td>Mixed</td>\n",
       "      <td>SimLex</td>\n",
       "      <td>132</td>\n",
       "      <td>0.276</td>\n",
       "      <td>1.265</td>\n",
       "    </tr>\n",
       "    <tr>\n",
       "      <th>0</th>\n",
       "      <td>-4.582</td>\n",
       "      <td>overall</td>\n",
       "      <td>MTurk</td>\n",
       "      <td>754</td>\n",
       "      <td>0.375</td>\n",
       "      <td>0.216</td>\n",
       "    </tr>\n",
       "    <tr>\n",
       "      <th>3</th>\n",
       "      <td>-4.789</td>\n",
       "      <td>Mixed</td>\n",
       "      <td>MTurk</td>\n",
       "      <td>264</td>\n",
       "      <td>0.361</td>\n",
       "      <td>0.394</td>\n",
       "    </tr>\n",
       "  </tbody>\n",
       "</table>\n",
       "</div>"
      ],
      "text/plain": [
       "     coef comparison  dataset     n     r2     se\n",
       "0 -10.740    overall  SimVerb  3487  0.207  0.356\n",
       "3 -13.005      Mixed  SimVerb  1144  0.263  0.644\n",
       "0  -7.984    overall  WordSim   353  0.319  0.622\n",
       "3 -10.189      Mixed  WordSim   114  0.268  1.592\n",
       "0  -7.915    overall   SimLex   999  0.200  0.502\n",
       "3  -8.911      Mixed   SimLex   132  0.276  1.265\n",
       "0  -4.582    overall    MTurk   754  0.375  0.216\n",
       "3  -4.789      Mixed    MTurk   264  0.361  0.394"
      ]
     },
     "execution_count": 76,
     "metadata": {},
     "output_type": "execute_result"
    }
   ],
   "source": [
    "df_approach1[df_approach1['comparison'].isin(['Mixed', 'overall'])]"
   ]
  },
  {
   "cell_type": "code",
   "execution_count": 77,
   "metadata": {},
   "outputs": [
    {
     "data": {
      "text/html": [
       "<div>\n",
       "<style scoped>\n",
       "    .dataframe tbody tr th:only-of-type {\n",
       "        vertical-align: middle;\n",
       "    }\n",
       "\n",
       "    .dataframe tbody tr th {\n",
       "        vertical-align: top;\n",
       "    }\n",
       "\n",
       "    .dataframe thead th {\n",
       "        text-align: right;\n",
       "    }\n",
       "</style>\n",
       "<table border=\"1\" class=\"dataframe\">\n",
       "  <thead>\n",
       "    <tr style=\"text-align: right;\">\n",
       "      <th></th>\n",
       "      <th>coef</th>\n",
       "      <th>comparison</th>\n",
       "      <th>dataset</th>\n",
       "      <th>n</th>\n",
       "      <th>r2</th>\n",
       "      <th>se</th>\n",
       "    </tr>\n",
       "  </thead>\n",
       "  <tbody>\n",
       "    <tr>\n",
       "      <th>3</th>\n",
       "      <td>-13.153</td>\n",
       "      <td>Mixed</td>\n",
       "      <td>SimVerb</td>\n",
       "      <td>865</td>\n",
       "      <td>0.260</td>\n",
       "      <td>0.756</td>\n",
       "    </tr>\n",
       "    <tr>\n",
       "      <th>3</th>\n",
       "      <td>-9.991</td>\n",
       "      <td>Mixed</td>\n",
       "      <td>WordSim</td>\n",
       "      <td>108</td>\n",
       "      <td>0.265</td>\n",
       "      <td>1.618</td>\n",
       "    </tr>\n",
       "    <tr>\n",
       "      <th>3</th>\n",
       "      <td>-9.133</td>\n",
       "      <td>Mixed</td>\n",
       "      <td>SimLex</td>\n",
       "      <td>121</td>\n",
       "      <td>0.291</td>\n",
       "      <td>1.306</td>\n",
       "    </tr>\n",
       "    <tr>\n",
       "      <th>3</th>\n",
       "      <td>-5.224</td>\n",
       "      <td>Mixed</td>\n",
       "      <td>MTurk</td>\n",
       "      <td>237</td>\n",
       "      <td>0.364</td>\n",
       "      <td>0.451</td>\n",
       "    </tr>\n",
       "  </tbody>\n",
       "</table>\n",
       "</div>"
      ],
      "text/plain": [
       "     coef comparison  dataset    n     r2     se\n",
       "3 -13.153      Mixed  SimVerb  865  0.260  0.756\n",
       "3  -9.991      Mixed  WordSim  108  0.265  1.618\n",
       "3  -9.133      Mixed   SimLex  121  0.291  1.306\n",
       "3  -5.224      Mixed    MTurk  237  0.364  0.451"
      ]
     },
     "execution_count": 77,
     "metadata": {},
     "output_type": "execute_result"
    }
   ],
   "source": [
    "df_approach2[df_approach2['comparison'].isin(['Mixed'])]"
   ]
  },
  {
   "cell_type": "code",
   "execution_count": null,
   "metadata": {},
   "outputs": [],
   "source": []
  },
  {
   "cell_type": "markdown",
   "metadata": {},
   "source": [
    "# Supplementary analysis\n",
    "\n",
    "To ensure that the results of the primary analysis (see above) are not due to differences in the quality of the embeddings for concrete vs. abstract words, we conducted a supplementary analysis, correlating `frequency` (in the CELEX database) with `concreteness`.\n",
    "\n",
    "If concrete words are either equally frequent, or more frequent, than abstract words, then it is unlikely our result simply reflects a decrease in the quality of the embeddings for concrete words. Indeed, we find that concreteness correlates positively with frequency."
   ]
  },
  {
   "cell_type": "markdown",
   "metadata": {},
   "source": [
    "## Analysis 1: All Brysbaert words"
   ]
  },
  {
   "cell_type": "code",
   "execution_count": 43,
   "metadata": {},
   "outputs": [],
   "source": [
    "import pandas as pd\n",
    "import math"
   ]
  },
  {
   "cell_type": "code",
   "execution_count": 44,
   "metadata": {},
   "outputs": [],
   "source": [
    "df_freq = pd.read_csv(\"data/freq.csv\", delim_whitespace=True)\n",
    "df_brysbaert = pd.read_csv(\"data/brysbaert_norms.csv\")"
   ]
  },
  {
   "cell_type": "code",
   "execution_count": 45,
   "metadata": {},
   "outputs": [],
   "source": [
    "df_freq['log_freq'] = df_freq['Frequency'].apply(lambda x: math.log10(x))"
   ]
  },
  {
   "cell_type": "code",
   "execution_count": 46,
   "metadata": {},
   "outputs": [
    {
     "data": {
      "text/plain": [
       "35207"
      ]
     },
     "execution_count": 46,
     "metadata": {},
     "output_type": "execute_result"
    }
   ],
   "source": [
    "df_merged = pd.merge(df_freq, df_brysbaert, on=\"Word\")\n",
    "df_merged['Concreteness'] = df_merged['Conc.M']\n",
    "len(df_merged)"
   ]
  },
  {
   "cell_type": "code",
   "execution_count": 49,
   "metadata": {},
   "outputs": [
    {
     "data": {
      "text/html": [
       "<table class=\"simpletable\">\n",
       "<caption>OLS Regression Results</caption>\n",
       "<tr>\n",
       "  <th>Dep. Variable:</th>      <td>Concreteness</td>   <th>  R-squared:         </th> <td>   0.036</td> \n",
       "</tr>\n",
       "<tr>\n",
       "  <th>Model:</th>                   <td>OLS</td>       <th>  Adj. R-squared:    </th> <td>   0.036</td> \n",
       "</tr>\n",
       "<tr>\n",
       "  <th>Method:</th>             <td>Least Squares</td>  <th>  F-statistic:       </th> <td>   1315.</td> \n",
       "</tr>\n",
       "<tr>\n",
       "  <th>Date:</th>             <td>Thu, 19 Dec 2019</td> <th>  Prob (F-statistic):</th> <td>1.19e-282</td>\n",
       "</tr>\n",
       "<tr>\n",
       "  <th>Time:</th>                 <td>12:53:13</td>     <th>  Log-Likelihood:    </th> <td> -49819.</td> \n",
       "</tr>\n",
       "<tr>\n",
       "  <th>No. Observations:</th>      <td> 35207</td>      <th>  AIC:               </th> <td>9.964e+04</td>\n",
       "</tr>\n",
       "<tr>\n",
       "  <th>Df Residuals:</th>          <td> 35205</td>      <th>  BIC:               </th> <td>9.966e+04</td>\n",
       "</tr>\n",
       "<tr>\n",
       "  <th>Df Model:</th>              <td>     1</td>      <th>                     </th>     <td> </td>    \n",
       "</tr>\n",
       "<tr>\n",
       "  <th>Covariance Type:</th>      <td>nonrobust</td>    <th>                     </th>     <td> </td>    \n",
       "</tr>\n",
       "</table>\n",
       "<table class=\"simpletable\">\n",
       "<tr>\n",
       "      <td></td>         <th>coef</th>     <th>std err</th>      <th>t</th>      <th>P>|t|</th>  <th>[0.025</th>    <th>0.975]</th>  \n",
       "</tr>\n",
       "<tr>\n",
       "  <th>Intercept</th> <td>    2.4965</td> <td>    0.015</td> <td>  168.423</td> <td> 0.000</td> <td>    2.467</td> <td>    2.526</td>\n",
       "</tr>\n",
       "<tr>\n",
       "  <th>log_freq</th>  <td>    0.1657</td> <td>    0.005</td> <td>   36.258</td> <td> 0.000</td> <td>    0.157</td> <td>    0.175</td>\n",
       "</tr>\n",
       "</table>\n",
       "<table class=\"simpletable\">\n",
       "<tr>\n",
       "  <th>Omnibus:</th>       <td>8730.417</td> <th>  Durbin-Watson:     </th> <td>   1.990</td>\n",
       "</tr>\n",
       "<tr>\n",
       "  <th>Prob(Omnibus):</th>  <td> 0.000</td>  <th>  Jarque-Bera (JB):  </th> <td>2156.301</td>\n",
       "</tr>\n",
       "<tr>\n",
       "  <th>Skew:</th>           <td> 0.343</td>  <th>  Prob(JB):          </th> <td>    0.00</td>\n",
       "</tr>\n",
       "<tr>\n",
       "  <th>Kurtosis:</th>       <td> 2.000</td>  <th>  Cond. No.          </th> <td>    9.82</td>\n",
       "</tr>\n",
       "</table><br/><br/>Warnings:<br/>[1] Standard Errors assume that the covariance matrix of the errors is correctly specified."
      ],
      "text/plain": [
       "<class 'statsmodels.iolib.summary.Summary'>\n",
       "\"\"\"\n",
       "                            OLS Regression Results                            \n",
       "==============================================================================\n",
       "Dep. Variable:           Concreteness   R-squared:                       0.036\n",
       "Model:                            OLS   Adj. R-squared:                  0.036\n",
       "Method:                 Least Squares   F-statistic:                     1315.\n",
       "Date:                Thu, 19 Dec 2019   Prob (F-statistic):          1.19e-282\n",
       "Time:                        12:53:13   Log-Likelihood:                -49819.\n",
       "No. Observations:               35207   AIC:                         9.964e+04\n",
       "Df Residuals:                   35205   BIC:                         9.966e+04\n",
       "Df Model:                           1                                         \n",
       "Covariance Type:            nonrobust                                         \n",
       "==============================================================================\n",
       "                 coef    std err          t      P>|t|      [0.025      0.975]\n",
       "------------------------------------------------------------------------------\n",
       "Intercept      2.4965      0.015    168.423      0.000       2.467       2.526\n",
       "log_freq       0.1657      0.005     36.258      0.000       0.157       0.175\n",
       "==============================================================================\n",
       "Omnibus:                     8730.417   Durbin-Watson:                   1.990\n",
       "Prob(Omnibus):                  0.000   Jarque-Bera (JB):             2156.301\n",
       "Skew:                           0.343   Prob(JB):                         0.00\n",
       "Kurtosis:                       2.000   Cond. No.                         9.82\n",
       "==============================================================================\n",
       "\n",
       "Warnings:\n",
       "[1] Standard Errors assume that the covariance matrix of the errors is correctly specified.\n",
       "\"\"\""
      ]
     },
     "execution_count": 49,
     "metadata": {},
     "output_type": "execute_result"
    }
   ],
   "source": [
    "model = sm.ols(data = df_merged,\n",
    "       formula = \"Concreteness ~ log_freq\"\n",
    "      ).fit()\n",
    "model.summary()"
   ]
  },
  {
   "cell_type": "markdown",
   "metadata": {},
   "source": [
    "## Analysis 2: Each similarity dataset\n",
    "\n",
    "Now, we ask whether for the **specific words** we analyzed, there is a positive, negative, or null relationship between `Concreteness` and `Frequency`."
   ]
  },
  {
   "cell_type": "code",
   "execution_count": 50,
   "metadata": {},
   "outputs": [],
   "source": [
    "sim_words = pd.DataFrame.from_dict({'Word': combined_sim})\n",
    "wordsim_words = pd.DataFrame.from_dict({'Word': combined_wordsim})\n",
    "simlex_words = pd.DataFrame.from_dict({'Word': combined_simlex})\n",
    "mturk_words = pd.DataFrame.from_dict({'Word': combined_mturk})"
   ]
  },
  {
   "cell_type": "code",
   "execution_count": 51,
   "metadata": {},
   "outputs": [],
   "source": [
    "all_words_list = combined_sim + combined_wordsim + combined_simlex + combined_mturk\n",
    "all_words_list = list(set(all_words_list))\n",
    "all_words = pd.DataFrame.from_dict({'Word': all_words_list})"
   ]
  },
  {
   "cell_type": "code",
   "execution_count": 52,
   "metadata": {},
   "outputs": [],
   "source": [
    "new = []\n",
    "for df in [sim_words, wordsim_words, simlex_words, mturk_words, all_words]:\n",
    "    new_df = pd.merge(df, df_merged, on=\"Word\")\n",
    "    new.append(new_df)\n",
    "sim_words, wordsim_words, simlex_words, mturk_words, all_words = new"
   ]
  },
  {
   "cell_type": "code",
   "execution_count": 53,
   "metadata": {},
   "outputs": [
    {
     "data": {
      "text/plain": [
       "2601"
      ]
     },
     "execution_count": 53,
     "metadata": {},
     "output_type": "execute_result"
    }
   ],
   "source": [
    "len(all_words)"
   ]
  },
  {
   "cell_type": "code",
   "execution_count": 54,
   "metadata": {},
   "outputs": [
    {
     "data": {
      "text/html": [
       "<table class=\"simpletable\">\n",
       "<caption>OLS Regression Results</caption>\n",
       "<tr>\n",
       "  <th>Dep. Variable:</th>      <td>Concreteness</td>   <th>  R-squared:         </th> <td>   0.001</td>\n",
       "</tr>\n",
       "<tr>\n",
       "  <th>Model:</th>                   <td>OLS</td>       <th>  Adj. R-squared:    </th> <td>   0.001</td>\n",
       "</tr>\n",
       "<tr>\n",
       "  <th>Method:</th>             <td>Least Squares</td>  <th>  F-statistic:       </th> <td>   3.053</td>\n",
       "</tr>\n",
       "<tr>\n",
       "  <th>Date:</th>             <td>Thu, 19 Dec 2019</td> <th>  Prob (F-statistic):</th>  <td>0.0807</td> \n",
       "</tr>\n",
       "<tr>\n",
       "  <th>Time:</th>                 <td>12:53:19</td>     <th>  Log-Likelihood:    </th> <td> -3728.1</td>\n",
       "</tr>\n",
       "<tr>\n",
       "  <th>No. Observations:</th>      <td>  2601</td>      <th>  AIC:               </th> <td>   7460.</td>\n",
       "</tr>\n",
       "<tr>\n",
       "  <th>Df Residuals:</th>          <td>  2599</td>      <th>  BIC:               </th> <td>   7472.</td>\n",
       "</tr>\n",
       "<tr>\n",
       "  <th>Df Model:</th>              <td>     1</td>      <th>                     </th>     <td> </td>   \n",
       "</tr>\n",
       "<tr>\n",
       "  <th>Covariance Type:</th>      <td>nonrobust</td>    <th>                     </th>     <td> </td>   \n",
       "</tr>\n",
       "</table>\n",
       "<table class=\"simpletable\">\n",
       "<tr>\n",
       "      <td></td>         <th>coef</th>     <th>std err</th>      <th>t</th>      <th>P>|t|</th>  <th>[0.025</th>    <th>0.975]</th>  \n",
       "</tr>\n",
       "<tr>\n",
       "  <th>Intercept</th> <td>    3.3553</td> <td>    0.121</td> <td>   27.770</td> <td> 0.000</td> <td>    3.118</td> <td>    3.592</td>\n",
       "</tr>\n",
       "<tr>\n",
       "  <th>log_freq</th>  <td>    0.0462</td> <td>    0.026</td> <td>    1.747</td> <td> 0.081</td> <td>   -0.006</td> <td>    0.098</td>\n",
       "</tr>\n",
       "</table>\n",
       "<table class=\"simpletable\">\n",
       "<tr>\n",
       "  <th>Omnibus:</th>       <td>1579.555</td> <th>  Durbin-Watson:     </th> <td>   1.985</td>\n",
       "</tr>\n",
       "<tr>\n",
       "  <th>Prob(Omnibus):</th>  <td> 0.000</td>  <th>  Jarque-Bera (JB):  </th> <td> 174.661</td>\n",
       "</tr>\n",
       "<tr>\n",
       "  <th>Skew:</th>           <td>-0.258</td>  <th>  Prob(JB):          </th> <td>1.18e-38</td>\n",
       "</tr>\n",
       "<tr>\n",
       "  <th>Kurtosis:</th>       <td> 1.840</td>  <th>  Cond. No.          </th> <td>    29.0</td>\n",
       "</tr>\n",
       "</table><br/><br/>Warnings:<br/>[1] Standard Errors assume that the covariance matrix of the errors is correctly specified."
      ],
      "text/plain": [
       "<class 'statsmodels.iolib.summary.Summary'>\n",
       "\"\"\"\n",
       "                            OLS Regression Results                            \n",
       "==============================================================================\n",
       "Dep. Variable:           Concreteness   R-squared:                       0.001\n",
       "Model:                            OLS   Adj. R-squared:                  0.001\n",
       "Method:                 Least Squares   F-statistic:                     3.053\n",
       "Date:                Thu, 19 Dec 2019   Prob (F-statistic):             0.0807\n",
       "Time:                        12:53:19   Log-Likelihood:                -3728.1\n",
       "No. Observations:                2601   AIC:                             7460.\n",
       "Df Residuals:                    2599   BIC:                             7472.\n",
       "Df Model:                           1                                         \n",
       "Covariance Type:            nonrobust                                         \n",
       "==============================================================================\n",
       "                 coef    std err          t      P>|t|      [0.025      0.975]\n",
       "------------------------------------------------------------------------------\n",
       "Intercept      3.3553      0.121     27.770      0.000       3.118       3.592\n",
       "log_freq       0.0462      0.026      1.747      0.081      -0.006       0.098\n",
       "==============================================================================\n",
       "Omnibus:                     1579.555   Durbin-Watson:                   1.985\n",
       "Prob(Omnibus):                  0.000   Jarque-Bera (JB):              174.661\n",
       "Skew:                          -0.258   Prob(JB):                     1.18e-38\n",
       "Kurtosis:                       1.840   Cond. No.                         29.0\n",
       "==============================================================================\n",
       "\n",
       "Warnings:\n",
       "[1] Standard Errors assume that the covariance matrix of the errors is correctly specified.\n",
       "\"\"\""
      ]
     },
     "execution_count": 54,
     "metadata": {},
     "output_type": "execute_result"
    }
   ],
   "source": [
    "model = sm.ols(data = all_words,\n",
    "       formula = \"Concreteness ~ log_freq\"\n",
    "      ).fit()\n",
    "model.summary()"
   ]
  },
  {
   "cell_type": "code",
   "execution_count": null,
   "metadata": {},
   "outputs": [],
   "source": []
  },
  {
   "cell_type": "code",
   "execution_count": null,
   "metadata": {},
   "outputs": [],
   "source": []
  }
 ],
 "metadata": {
  "kernelspec": {
   "display_name": "Python 3",
   "language": "python",
   "name": "python3"
  },
  "language_info": {
   "codemirror_mode": {
    "name": "ipython",
    "version": 3
   },
   "file_extension": ".py",
   "mimetype": "text/x-python",
   "name": "python",
   "nbconvert_exporter": "python",
   "pygments_lexer": "ipython3",
   "version": "3.7.1"
  }
 },
 "nbformat": 4,
 "nbformat_minor": 2
}
